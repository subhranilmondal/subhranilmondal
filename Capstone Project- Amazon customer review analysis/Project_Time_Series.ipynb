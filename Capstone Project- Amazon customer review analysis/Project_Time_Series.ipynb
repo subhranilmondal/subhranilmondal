{
  "nbformat": 4,
  "nbformat_minor": 0,
  "metadata": {
    "colab": {
      "provenance": []
    },
    "kernelspec": {
      "name": "python3",
      "display_name": "Python 3"
    },
    "language_info": {
      "name": "python"
    }
  },
  "cells": [
    {
      "cell_type": "markdown",
      "source": [
        "## **Title:Amazon Product Review Analysis**\n",
        "\n",
        "### **Business Objective:Customer Retention and Sentiment Forecasting**."
      ],
      "metadata": {
        "id": "y0GOIW7kbeEL"
      }
    },
    {
      "cell_type": "code",
      "source": [
        "#importing required libraries\n",
        "import numpy as np                                              #for array and numerical data calculation\n",
        "import pandas as pd                                             #for making dataframe and loding data\n",
        "import matplotlib.pyplot as plt                                 #for visualization\n",
        "import seaborn as sns                                           #for visualization\n",
        "sns.set()\n",
        "\n",
        "\n",
        "from statsmodels.tsa.seasonal import seasonal_decompose         #for decompostion of plot into trend,seasonality and residual\n",
        "from statsmodels.tsa.stattools import acf,pacf,adfuller         #for plotting acf plot,pacf plot and checking stationarity through Augmented dickey fuller test\n",
        "\n",
        "from statsmodels.tsa.arima.model import ARIMA                   #for building ARIMA model\n",
        "from statsmodels.tsa.statespace.sarimax import SARIMAX          #for building SARIMAX model if seasonality is presnt in data\n",
        "import statsmodels.api as sm\n",
        "\n",
        "\n",
        "import warnings                                                  # to filter out warnings\n",
        "warnings.simplefilter(action='ignore')"
      ],
      "metadata": {
        "id": "m9qenudb0Z-x"
      },
      "execution_count": 233,
      "outputs": []
    },
    {
      "cell_type": "code",
      "execution_count": 21,
      "metadata": {
        "colab": {
          "base_uri": "https://localhost:8080/",
          "height": 704
        },
        "id": "4A-ng7W20IKK",
        "outputId": "73934e1a-dec7-4326-b9af-511908934557"
      },
      "outputs": [
        {
          "output_type": "execute_result",
          "data": {
            "text/plain": [
              "   rating  verified       Date      reviewerID        asin  \\\n",
              "0       4      True 2015-09-24  A31Y9ELLA1JUB0  B0000DIWNI   \n",
              "1       5      True 2015-06-23  A2FYW9VZ0AMXKY  B0000DIWNI   \n",
              "2       5      True 2015-06-13  A1NE43T0OM6NNX  B0000DIWNI   \n",
              "3       4      True 2015-06-03   AHTCPGK2CNPKU  B0000DIWNI   \n",
              "4       5      True 2015-04-20  A25SIBTMVXLB59  B0000DIWNI   \n",
              "\n",
              "                                    reviewerName  unixReviewTime  \\\n",
              "0  Her Royal Peepness Princess HoneyBunny Blayze      1443052800   \n",
              "1                                           Mary      1435017600   \n",
              "2                                        Tulay C      1434153600   \n",
              "3                                       OmaShops      1433289600   \n",
              "4                                    Nitemanslim      1429488000   \n",
              "\n",
              "                                         description  \\\n",
              "0  ['Saran Premium Wrap is an extra tough yet eas...   \n",
              "1  ['Saran Premium Wrap is an extra tough yet eas...   \n",
              "2  ['Saran Premium Wrap is an extra tough yet eas...   \n",
              "3  ['Saran Premium Wrap is an extra tough yet eas...   \n",
              "4  ['Saran Premium Wrap is an extra tough yet eas...   \n",
              "\n",
              "                                   title  \\\n",
              "0  Saran Premium Plastic Wrap, 100 Sq Ft   \n",
              "1  Saran Premium Plastic Wrap, 100 Sq Ft   \n",
              "2  Saran Premium Plastic Wrap, 100 Sq Ft   \n",
              "3  Saran Premium Plastic Wrap, 100 Sq Ft   \n",
              "4  Saran Premium Plastic Wrap, 100 Sq Ft   \n",
              "\n",
              "                                            also_buy  brand feature rank  \\\n",
              "0  ['B01MY5FHT6', 'B000PYF8VM', 'B000SRMDFA', 'B0...  Saran      []   []   \n",
              "1  ['B01MY5FHT6', 'B000PYF8VM', 'B000SRMDFA', 'B0...  Saran      []   []   \n",
              "2  ['B01MY5FHT6', 'B000PYF8VM', 'B000SRMDFA', 'B0...  Saran      []   []   \n",
              "3  ['B01MY5FHT6', 'B000PYF8VM', 'B000SRMDFA', 'B0...  Saran      []   []   \n",
              "4  ['B01MY5FHT6', 'B000PYF8VM', 'B000SRMDFA', 'B0...  Saran      []   []   \n",
              "\n",
              "                                           also_view  price  \\\n",
              "0  ['B077QLSLRQ', 'B00JPKW1RQ', 'B000FE2IK6', 'B0...   1.48   \n",
              "1  ['B077QLSLRQ', 'B00JPKW1RQ', 'B000FE2IK6', 'B0...   1.48   \n",
              "2  ['B077QLSLRQ', 'B00JPKW1RQ', 'B000FE2IK6', 'B0...   1.48   \n",
              "3  ['B077QLSLRQ', 'B00JPKW1RQ', 'B000FE2IK6', 'B0...   1.48   \n",
              "4  ['B077QLSLRQ', 'B00JPKW1RQ', 'B000FE2IK6', 'B0...   1.48   \n",
              "\n",
              "                                         review_text  \\\n",
              "0  Pretty Good For plastic Wrap I purchased this ...   \n",
              "1  The Best Plastic Wrap for your Cooking, Baking...   \n",
              "2  Good and strong. Good wrap, keeping it in the ...   \n",
              "3  Doesn't cling as well to dishes as other brand...   \n",
              "4                                  Five Stars Thanks   \n",
              "\n",
              "                                          clean_text  Polarity  Analysis  \n",
              "0  pretty good plastic wrap purchase saran premiu...  0.187037   Neutral  \n",
              "1  best plastic wrap cook bake food storage need ...  0.317857   Neutral  \n",
              "2  good strong good wrap keep fridge make easier ...  0.611111  Positive  \n",
              "3  doesn t cling dish brand tangle prefer saran w...  0.000000  Negative  \n",
              "4                                         star thank  0.000000  Negative  "
            ],
            "text/html": [
              "\n",
              "  <div id=\"df-f807b3b2-eb83-4461-a1b8-c0a4b148d4f6\">\n",
              "    <div class=\"colab-df-container\">\n",
              "      <div>\n",
              "<style scoped>\n",
              "    .dataframe tbody tr th:only-of-type {\n",
              "        vertical-align: middle;\n",
              "    }\n",
              "\n",
              "    .dataframe tbody tr th {\n",
              "        vertical-align: top;\n",
              "    }\n",
              "\n",
              "    .dataframe thead th {\n",
              "        text-align: right;\n",
              "    }\n",
              "</style>\n",
              "<table border=\"1\" class=\"dataframe\">\n",
              "  <thead>\n",
              "    <tr style=\"text-align: right;\">\n",
              "      <th></th>\n",
              "      <th>rating</th>\n",
              "      <th>verified</th>\n",
              "      <th>Date</th>\n",
              "      <th>reviewerID</th>\n",
              "      <th>asin</th>\n",
              "      <th>reviewerName</th>\n",
              "      <th>unixReviewTime</th>\n",
              "      <th>description</th>\n",
              "      <th>title</th>\n",
              "      <th>also_buy</th>\n",
              "      <th>brand</th>\n",
              "      <th>feature</th>\n",
              "      <th>rank</th>\n",
              "      <th>also_view</th>\n",
              "      <th>price</th>\n",
              "      <th>review_text</th>\n",
              "      <th>clean_text</th>\n",
              "      <th>Polarity</th>\n",
              "      <th>Analysis</th>\n",
              "    </tr>\n",
              "  </thead>\n",
              "  <tbody>\n",
              "    <tr>\n",
              "      <th>0</th>\n",
              "      <td>4</td>\n",
              "      <td>True</td>\n",
              "      <td>2015-09-24</td>\n",
              "      <td>A31Y9ELLA1JUB0</td>\n",
              "      <td>B0000DIWNI</td>\n",
              "      <td>Her Royal Peepness Princess HoneyBunny Blayze</td>\n",
              "      <td>1443052800</td>\n",
              "      <td>['Saran Premium Wrap is an extra tough yet eas...</td>\n",
              "      <td>Saran Premium Plastic Wrap, 100 Sq Ft</td>\n",
              "      <td>['B01MY5FHT6', 'B000PYF8VM', 'B000SRMDFA', 'B0...</td>\n",
              "      <td>Saran</td>\n",
              "      <td>[]</td>\n",
              "      <td>[]</td>\n",
              "      <td>['B077QLSLRQ', 'B00JPKW1RQ', 'B000FE2IK6', 'B0...</td>\n",
              "      <td>1.48</td>\n",
              "      <td>Pretty Good For plastic Wrap I purchased this ...</td>\n",
              "      <td>pretty good plastic wrap purchase saran premiu...</td>\n",
              "      <td>0.187037</td>\n",
              "      <td>Neutral</td>\n",
              "    </tr>\n",
              "    <tr>\n",
              "      <th>1</th>\n",
              "      <td>5</td>\n",
              "      <td>True</td>\n",
              "      <td>2015-06-23</td>\n",
              "      <td>A2FYW9VZ0AMXKY</td>\n",
              "      <td>B0000DIWNI</td>\n",
              "      <td>Mary</td>\n",
              "      <td>1435017600</td>\n",
              "      <td>['Saran Premium Wrap is an extra tough yet eas...</td>\n",
              "      <td>Saran Premium Plastic Wrap, 100 Sq Ft</td>\n",
              "      <td>['B01MY5FHT6', 'B000PYF8VM', 'B000SRMDFA', 'B0...</td>\n",
              "      <td>Saran</td>\n",
              "      <td>[]</td>\n",
              "      <td>[]</td>\n",
              "      <td>['B077QLSLRQ', 'B00JPKW1RQ', 'B000FE2IK6', 'B0...</td>\n",
              "      <td>1.48</td>\n",
              "      <td>The Best Plastic Wrap for your Cooking, Baking...</td>\n",
              "      <td>best plastic wrap cook bake food storage need ...</td>\n",
              "      <td>0.317857</td>\n",
              "      <td>Neutral</td>\n",
              "    </tr>\n",
              "    <tr>\n",
              "      <th>2</th>\n",
              "      <td>5</td>\n",
              "      <td>True</td>\n",
              "      <td>2015-06-13</td>\n",
              "      <td>A1NE43T0OM6NNX</td>\n",
              "      <td>B0000DIWNI</td>\n",
              "      <td>Tulay C</td>\n",
              "      <td>1434153600</td>\n",
              "      <td>['Saran Premium Wrap is an extra tough yet eas...</td>\n",
              "      <td>Saran Premium Plastic Wrap, 100 Sq Ft</td>\n",
              "      <td>['B01MY5FHT6', 'B000PYF8VM', 'B000SRMDFA', 'B0...</td>\n",
              "      <td>Saran</td>\n",
              "      <td>[]</td>\n",
              "      <td>[]</td>\n",
              "      <td>['B077QLSLRQ', 'B00JPKW1RQ', 'B000FE2IK6', 'B0...</td>\n",
              "      <td>1.48</td>\n",
              "      <td>Good and strong. Good wrap, keeping it in the ...</td>\n",
              "      <td>good strong good wrap keep fridge make easier ...</td>\n",
              "      <td>0.611111</td>\n",
              "      <td>Positive</td>\n",
              "    </tr>\n",
              "    <tr>\n",
              "      <th>3</th>\n",
              "      <td>4</td>\n",
              "      <td>True</td>\n",
              "      <td>2015-06-03</td>\n",
              "      <td>AHTCPGK2CNPKU</td>\n",
              "      <td>B0000DIWNI</td>\n",
              "      <td>OmaShops</td>\n",
              "      <td>1433289600</td>\n",
              "      <td>['Saran Premium Wrap is an extra tough yet eas...</td>\n",
              "      <td>Saran Premium Plastic Wrap, 100 Sq Ft</td>\n",
              "      <td>['B01MY5FHT6', 'B000PYF8VM', 'B000SRMDFA', 'B0...</td>\n",
              "      <td>Saran</td>\n",
              "      <td>[]</td>\n",
              "      <td>[]</td>\n",
              "      <td>['B077QLSLRQ', 'B00JPKW1RQ', 'B000FE2IK6', 'B0...</td>\n",
              "      <td>1.48</td>\n",
              "      <td>Doesn't cling as well to dishes as other brand...</td>\n",
              "      <td>doesn t cling dish brand tangle prefer saran w...</td>\n",
              "      <td>0.000000</td>\n",
              "      <td>Negative</td>\n",
              "    </tr>\n",
              "    <tr>\n",
              "      <th>4</th>\n",
              "      <td>5</td>\n",
              "      <td>True</td>\n",
              "      <td>2015-04-20</td>\n",
              "      <td>A25SIBTMVXLB59</td>\n",
              "      <td>B0000DIWNI</td>\n",
              "      <td>Nitemanslim</td>\n",
              "      <td>1429488000</td>\n",
              "      <td>['Saran Premium Wrap is an extra tough yet eas...</td>\n",
              "      <td>Saran Premium Plastic Wrap, 100 Sq Ft</td>\n",
              "      <td>['B01MY5FHT6', 'B000PYF8VM', 'B000SRMDFA', 'B0...</td>\n",
              "      <td>Saran</td>\n",
              "      <td>[]</td>\n",
              "      <td>[]</td>\n",
              "      <td>['B077QLSLRQ', 'B00JPKW1RQ', 'B000FE2IK6', 'B0...</td>\n",
              "      <td>1.48</td>\n",
              "      <td>Five Stars Thanks</td>\n",
              "      <td>star thank</td>\n",
              "      <td>0.000000</td>\n",
              "      <td>Negative</td>\n",
              "    </tr>\n",
              "  </tbody>\n",
              "</table>\n",
              "</div>\n",
              "      <button class=\"colab-df-convert\" onclick=\"convertToInteractive('df-f807b3b2-eb83-4461-a1b8-c0a4b148d4f6')\"\n",
              "              title=\"Convert this dataframe to an interactive table.\"\n",
              "              style=\"display:none;\">\n",
              "        \n",
              "  <svg xmlns=\"http://www.w3.org/2000/svg\" height=\"24px\"viewBox=\"0 0 24 24\"\n",
              "       width=\"24px\">\n",
              "    <path d=\"M0 0h24v24H0V0z\" fill=\"none\"/>\n",
              "    <path d=\"M18.56 5.44l.94 2.06.94-2.06 2.06-.94-2.06-.94-.94-2.06-.94 2.06-2.06.94zm-11 1L8.5 8.5l.94-2.06 2.06-.94-2.06-.94L8.5 2.5l-.94 2.06-2.06.94zm10 10l.94 2.06.94-2.06 2.06-.94-2.06-.94-.94-2.06-.94 2.06-2.06.94z\"/><path d=\"M17.41 7.96l-1.37-1.37c-.4-.4-.92-.59-1.43-.59-.52 0-1.04.2-1.43.59L10.3 9.45l-7.72 7.72c-.78.78-.78 2.05 0 2.83L4 21.41c.39.39.9.59 1.41.59.51 0 1.02-.2 1.41-.59l7.78-7.78 2.81-2.81c.8-.78.8-2.07 0-2.86zM5.41 20L4 18.59l7.72-7.72 1.47 1.35L5.41 20z\"/>\n",
              "  </svg>\n",
              "      </button>\n",
              "      \n",
              "  <style>\n",
              "    .colab-df-container {\n",
              "      display:flex;\n",
              "      flex-wrap:wrap;\n",
              "      gap: 12px;\n",
              "    }\n",
              "\n",
              "    .colab-df-convert {\n",
              "      background-color: #E8F0FE;\n",
              "      border: none;\n",
              "      border-radius: 50%;\n",
              "      cursor: pointer;\n",
              "      display: none;\n",
              "      fill: #1967D2;\n",
              "      height: 32px;\n",
              "      padding: 0 0 0 0;\n",
              "      width: 32px;\n",
              "    }\n",
              "\n",
              "    .colab-df-convert:hover {\n",
              "      background-color: #E2EBFA;\n",
              "      box-shadow: 0px 1px 2px rgba(60, 64, 67, 0.3), 0px 1px 3px 1px rgba(60, 64, 67, 0.15);\n",
              "      fill: #174EA6;\n",
              "    }\n",
              "\n",
              "    [theme=dark] .colab-df-convert {\n",
              "      background-color: #3B4455;\n",
              "      fill: #D2E3FC;\n",
              "    }\n",
              "\n",
              "    [theme=dark] .colab-df-convert:hover {\n",
              "      background-color: #434B5C;\n",
              "      box-shadow: 0px 1px 3px 1px rgba(0, 0, 0, 0.15);\n",
              "      filter: drop-shadow(0px 1px 2px rgba(0, 0, 0, 0.3));\n",
              "      fill: #FFFFFF;\n",
              "    }\n",
              "  </style>\n",
              "\n",
              "      <script>\n",
              "        const buttonEl =\n",
              "          document.querySelector('#df-f807b3b2-eb83-4461-a1b8-c0a4b148d4f6 button.colab-df-convert');\n",
              "        buttonEl.style.display =\n",
              "          google.colab.kernel.accessAllowed ? 'block' : 'none';\n",
              "\n",
              "        async function convertToInteractive(key) {\n",
              "          const element = document.querySelector('#df-f807b3b2-eb83-4461-a1b8-c0a4b148d4f6');\n",
              "          const dataTable =\n",
              "            await google.colab.kernel.invokeFunction('convertToInteractive',\n",
              "                                                     [key], {});\n",
              "          if (!dataTable) return;\n",
              "\n",
              "          const docLinkHtml = 'Like what you see? Visit the ' +\n",
              "            '<a target=\"_blank\" href=https://colab.research.google.com/notebooks/data_table.ipynb>data table notebook</a>'\n",
              "            + ' to learn more about interactive tables.';\n",
              "          element.innerHTML = '';\n",
              "          dataTable['output_type'] = 'display_data';\n",
              "          await google.colab.output.renderOutput(dataTable, element);\n",
              "          const docLink = document.createElement('div');\n",
              "          docLink.innerHTML = docLinkHtml;\n",
              "          element.appendChild(docLink);\n",
              "        }\n",
              "      </script>\n",
              "    </div>\n",
              "  </div>\n",
              "  "
            ]
          },
          "metadata": {},
          "execution_count": 21
        }
      ],
      "source": [
        "## Reading the preprocessed data\n",
        "pantry_bkp=pd.read_csv('/content/clean_data_finall.zip',compression='zip',parse_dates=['Date'])\n",
        "pantry_bkp.head()"
      ]
    },
    {
      "cell_type": "code",
      "source": [
        "#Dropping if null value exist\n",
        "pantry_bkp.dropna(inplace=True)"
      ],
      "metadata": {
        "id": "b3AAOC-40fA6"
      },
      "execution_count": 22,
      "outputs": []
    },
    {
      "cell_type": "code",
      "source": [
        "#checking for null values\n",
        "pantry_bkp.isnull().sum()"
      ],
      "metadata": {
        "colab": {
          "base_uri": "https://localhost:8080/"
        },
        "id": "jr_eZURc0fMB",
        "outputId": "3a12fe01-d3b9-46e8-fd78-20944d253911"
      },
      "execution_count": 23,
      "outputs": [
        {
          "output_type": "execute_result",
          "data": {
            "text/plain": [
              "rating            0\n",
              "verified          0\n",
              "Date              0\n",
              "reviewerID        0\n",
              "asin              0\n",
              "reviewerName      0\n",
              "unixReviewTime    0\n",
              "description       0\n",
              "title             0\n",
              "also_buy          0\n",
              "brand             0\n",
              "feature           0\n",
              "rank              0\n",
              "also_view         0\n",
              "price             0\n",
              "review_text       0\n",
              "clean_text        0\n",
              "Polarity          0\n",
              "Analysis          0\n",
              "dtype: int64"
            ]
          },
          "metadata": {},
          "execution_count": 23
        }
      ]
    },
    {
      "cell_type": "code",
      "source": [
        "#Unstacking Analysis column into separate columns\n",
        "#resampling data quaterly as the data is huge\n",
        "pantry_dff=pd.crosstab(pantry_bkp['Date'],pantry_bkp['Analysis'])\n",
        "pantry_dff=pantry_dff.resample('Q').sum()\n",
        "pantry_dff['total']=pantry_dff['Negative']+pantry_dff['Neutral']+pantry_dff['Positive']\n",
        "\n",
        "pantry_dff.head()"
      ],
      "metadata": {
        "colab": {
          "base_uri": "https://localhost:8080/",
          "height": 237
        },
        "id": "WI04F7tl0fUN",
        "outputId": "b10d3adf-ef38-47f6-d7a2-7c7918189359"
      },
      "execution_count": 115,
      "outputs": [
        {
          "output_type": "execute_result",
          "data": {
            "text/plain": [
              "Analysis    Negative  Neutral  Positive  total\n",
              "Date                                          \n",
              "2006-06-30         0        3         0      3\n",
              "2006-09-30         0        2         0      2\n",
              "2006-12-31         0        3         0      3\n",
              "2007-03-31         0        0         1      1\n",
              "2007-06-30         0        0         0      0"
            ],
            "text/html": [
              "\n",
              "  <div id=\"df-9e2c454e-c374-4c5e-939e-441bdea2e3cd\">\n",
              "    <div class=\"colab-df-container\">\n",
              "      <div>\n",
              "<style scoped>\n",
              "    .dataframe tbody tr th:only-of-type {\n",
              "        vertical-align: middle;\n",
              "    }\n",
              "\n",
              "    .dataframe tbody tr th {\n",
              "        vertical-align: top;\n",
              "    }\n",
              "\n",
              "    .dataframe thead th {\n",
              "        text-align: right;\n",
              "    }\n",
              "</style>\n",
              "<table border=\"1\" class=\"dataframe\">\n",
              "  <thead>\n",
              "    <tr style=\"text-align: right;\">\n",
              "      <th>Analysis</th>\n",
              "      <th>Negative</th>\n",
              "      <th>Neutral</th>\n",
              "      <th>Positive</th>\n",
              "      <th>total</th>\n",
              "    </tr>\n",
              "    <tr>\n",
              "      <th>Date</th>\n",
              "      <th></th>\n",
              "      <th></th>\n",
              "      <th></th>\n",
              "      <th></th>\n",
              "    </tr>\n",
              "  </thead>\n",
              "  <tbody>\n",
              "    <tr>\n",
              "      <th>2006-06-30</th>\n",
              "      <td>0</td>\n",
              "      <td>3</td>\n",
              "      <td>0</td>\n",
              "      <td>3</td>\n",
              "    </tr>\n",
              "    <tr>\n",
              "      <th>2006-09-30</th>\n",
              "      <td>0</td>\n",
              "      <td>2</td>\n",
              "      <td>0</td>\n",
              "      <td>2</td>\n",
              "    </tr>\n",
              "    <tr>\n",
              "      <th>2006-12-31</th>\n",
              "      <td>0</td>\n",
              "      <td>3</td>\n",
              "      <td>0</td>\n",
              "      <td>3</td>\n",
              "    </tr>\n",
              "    <tr>\n",
              "      <th>2007-03-31</th>\n",
              "      <td>0</td>\n",
              "      <td>0</td>\n",
              "      <td>1</td>\n",
              "      <td>1</td>\n",
              "    </tr>\n",
              "    <tr>\n",
              "      <th>2007-06-30</th>\n",
              "      <td>0</td>\n",
              "      <td>0</td>\n",
              "      <td>0</td>\n",
              "      <td>0</td>\n",
              "    </tr>\n",
              "  </tbody>\n",
              "</table>\n",
              "</div>\n",
              "      <button class=\"colab-df-convert\" onclick=\"convertToInteractive('df-9e2c454e-c374-4c5e-939e-441bdea2e3cd')\"\n",
              "              title=\"Convert this dataframe to an interactive table.\"\n",
              "              style=\"display:none;\">\n",
              "        \n",
              "  <svg xmlns=\"http://www.w3.org/2000/svg\" height=\"24px\"viewBox=\"0 0 24 24\"\n",
              "       width=\"24px\">\n",
              "    <path d=\"M0 0h24v24H0V0z\" fill=\"none\"/>\n",
              "    <path d=\"M18.56 5.44l.94 2.06.94-2.06 2.06-.94-2.06-.94-.94-2.06-.94 2.06-2.06.94zm-11 1L8.5 8.5l.94-2.06 2.06-.94-2.06-.94L8.5 2.5l-.94 2.06-2.06.94zm10 10l.94 2.06.94-2.06 2.06-.94-2.06-.94-.94-2.06-.94 2.06-2.06.94z\"/><path d=\"M17.41 7.96l-1.37-1.37c-.4-.4-.92-.59-1.43-.59-.52 0-1.04.2-1.43.59L10.3 9.45l-7.72 7.72c-.78.78-.78 2.05 0 2.83L4 21.41c.39.39.9.59 1.41.59.51 0 1.02-.2 1.41-.59l7.78-7.78 2.81-2.81c.8-.78.8-2.07 0-2.86zM5.41 20L4 18.59l7.72-7.72 1.47 1.35L5.41 20z\"/>\n",
              "  </svg>\n",
              "      </button>\n",
              "      \n",
              "  <style>\n",
              "    .colab-df-container {\n",
              "      display:flex;\n",
              "      flex-wrap:wrap;\n",
              "      gap: 12px;\n",
              "    }\n",
              "\n",
              "    .colab-df-convert {\n",
              "      background-color: #E8F0FE;\n",
              "      border: none;\n",
              "      border-radius: 50%;\n",
              "      cursor: pointer;\n",
              "      display: none;\n",
              "      fill: #1967D2;\n",
              "      height: 32px;\n",
              "      padding: 0 0 0 0;\n",
              "      width: 32px;\n",
              "    }\n",
              "\n",
              "    .colab-df-convert:hover {\n",
              "      background-color: #E2EBFA;\n",
              "      box-shadow: 0px 1px 2px rgba(60, 64, 67, 0.3), 0px 1px 3px 1px rgba(60, 64, 67, 0.15);\n",
              "      fill: #174EA6;\n",
              "    }\n",
              "\n",
              "    [theme=dark] .colab-df-convert {\n",
              "      background-color: #3B4455;\n",
              "      fill: #D2E3FC;\n",
              "    }\n",
              "\n",
              "    [theme=dark] .colab-df-convert:hover {\n",
              "      background-color: #434B5C;\n",
              "      box-shadow: 0px 1px 3px 1px rgba(0, 0, 0, 0.15);\n",
              "      filter: drop-shadow(0px 1px 2px rgba(0, 0, 0, 0.3));\n",
              "      fill: #FFFFFF;\n",
              "    }\n",
              "  </style>\n",
              "\n",
              "      <script>\n",
              "        const buttonEl =\n",
              "          document.querySelector('#df-9e2c454e-c374-4c5e-939e-441bdea2e3cd button.colab-df-convert');\n",
              "        buttonEl.style.display =\n",
              "          google.colab.kernel.accessAllowed ? 'block' : 'none';\n",
              "\n",
              "        async function convertToInteractive(key) {\n",
              "          const element = document.querySelector('#df-9e2c454e-c374-4c5e-939e-441bdea2e3cd');\n",
              "          const dataTable =\n",
              "            await google.colab.kernel.invokeFunction('convertToInteractive',\n",
              "                                                     [key], {});\n",
              "          if (!dataTable) return;\n",
              "\n",
              "          const docLinkHtml = 'Like what you see? Visit the ' +\n",
              "            '<a target=\"_blank\" href=https://colab.research.google.com/notebooks/data_table.ipynb>data table notebook</a>'\n",
              "            + ' to learn more about interactive tables.';\n",
              "          element.innerHTML = '';\n",
              "          dataTable['output_type'] = 'display_data';\n",
              "          await google.colab.output.renderOutput(dataTable, element);\n",
              "          const docLink = document.createElement('div');\n",
              "          docLink.innerHTML = docLinkHtml;\n",
              "          element.appendChild(docLink);\n",
              "        }\n",
              "      </script>\n",
              "    </div>\n",
              "  </div>\n",
              "  "
            ]
          },
          "metadata": {},
          "execution_count": 115
        }
      ]
    },
    {
      "cell_type": "code",
      "source": [
        "#Slicing the required data for analysis as before it all datapoints have constant or zero values.\n",
        "Positive=pantry_dff['Positive'][27:]\n",
        "Neutral=pantry_dff['Neutral'][27:]\n",
        "Negative=pantry_dff['Negative'][27:]"
      ],
      "metadata": {
        "id": "sct0S48S0fca"
      },
      "execution_count": 117,
      "outputs": []
    },
    {
      "cell_type": "code",
      "source": [
        "#seeing plot of Analysis Column\n",
        "for i in [Positive,Neutral,Negative]:\n",
        "  i.plot(figsize=(20,9))\n",
        "  plt.legend();"
      ],
      "metadata": {
        "colab": {
          "base_uri": "https://localhost:8080/",
          "height": 557
        },
        "id": "I9_hNyB04Jzm",
        "outputId": "3399cc9c-0592-4914-b87b-10cc930da2cd"
      },
      "execution_count": 125,
      "outputs": [
        {
          "output_type": "display_data",
          "data": {
            "text/plain": [
              "<Figure size 1440x648 with 1 Axes>"
            ],
            "image/png": "[encoded data removed]"
          },
          "metadata": {}
        }
      ]
    },
    {
      "cell_type": "markdown",
      "source": [
        "We can see all types of sentiment are gradually decreasing after 2016 and going upto 2018"
      ],
      "metadata": {
        "id": "r4Jt5-4ZgtnV"
      }
    },
    {
      "cell_type": "markdown",
      "source": [
        "### Positive Sentiment Customer Shopping Pattern and Review Time Series Analysis."
      ],
      "metadata": {
        "id": "Sr7Xj4q-KrVt"
      }
    },
    {
      "cell_type": "code",
      "source": [
        "#seasonal decomposition for positive sentiment,period=4 as there are 4 months in each qaurter\n",
        "decomposition=seasonal_decompose(Positive,period=4)\n",
        "decomposition.plot();"
      ],
      "metadata": {
        "colab": {
          "base_uri": "https://localhost:8080/",
          "height": 293
        },
        "id": "oHvIh8na5bWd",
        "outputId": "c73cea03-91b0-4a96-cddb-06e6b52e4528"
      },
      "execution_count": 127,
      "outputs": [
        {
          "output_type": "display_data",
          "data": {
            "text/plain": [
              "<Figure size 432x288 with 4 Axes>"
            ],
            "image/png": "[encoded data removed]"
          },
          "metadata": {}
        }
      ]
    },
    {
      "cell_type": "markdown",
      "source": [
        "We can see trend and seasonality as well as noise points in our data."
      ],
      "metadata": {
        "id": "zOoLQHNMHVMy"
      }
    },
    {
      "cell_type": "code",
      "source": [
        "#decomposition for trend ,seasonality and residual\n",
        "d_trend_p=decomposition.trend\n",
        "d_seasonal_p=decomposition.seasonal\n",
        "d_residual_p=decomposition.resid"
      ],
      "metadata": {
        "id": "Yj8T4vVz49iq"
      },
      "execution_count": 128,
      "outputs": []
    },
    {
      "cell_type": "code",
      "source": [
        "# dickey-fuller test for stationarity\n",
        "\n",
        "def checkStationarity(data):\n",
        "    pvalue = adfuller(data)[1]\n",
        "    if pvalue < 0.05:\n",
        "        ret = \"Data is Stationary. Proceed to model building\"\n",
        "    else:\n",
        "        ret = \"Data is not Stationary. Make it stationary\"\n",
        "        \n",
        "    return(ret)"
      ],
      "metadata": {
        "id": "8b58xkwZ4XeR"
      },
      "execution_count": 56,
      "outputs": []
    },
    {
      "cell_type": "code",
      "source": [
        "# checking for stationarity of the positive sentiment data\n",
        "checkStationarity(Positive)"
      ],
      "metadata": {
        "colab": {
          "base_uri": "https://localhost:8080/",
          "height": 35
        },
        "id": "ZAHDllGz6-c0",
        "outputId": "1652d008-4f5a-489a-f3d7-55c12ec40bc8"
      },
      "execution_count": 132,
      "outputs": [
        {
          "output_type": "execute_result",
          "data": {
            "text/plain": [
              "'Data is Stationary. Proceed to model building'"
            ],
            "application/vnd.google.colaboratory.intrinsic+json": {
              "type": "string"
            }
          },
          "metadata": {},
          "execution_count": 132
        }
      ]
    },
    {
      "cell_type": "markdown",
      "source": [
        "As it is already stationary so we take d=0"
      ],
      "metadata": {
        "id": "sWNsIkiLHzTu"
      }
    },
    {
      "cell_type": "code",
      "source": [
        "#plotting correlogram for positive sentiment data\n",
        "fig,ax=plt.subplots(1,2,figsize=(15,7))\n",
        "plot_acf(Positive,lags=10,ax=ax[0])\n",
        "plot_pacf(Positive,lags=10,ax=ax[1])\n",
        "plt.show()"
      ],
      "metadata": {
        "colab": {
          "base_uri": "https://localhost:8080/",
          "height": 447
        },
        "id": "zV2SR5Og7Qyw",
        "outputId": "d18ba4a0-b266-4517-c604-c0f7c5049fe4"
      },
      "execution_count": 133,
      "outputs": [
        {
          "output_type": "display_data",
          "data": {
            "text/plain": [
              "<Figure size 1080x504 with 2 Axes>"
            ],
            "image/png": "[encoded data removed]"
          },
          "metadata": {}
        }
      ]
    },
    {
      "cell_type": "markdown",
      "source": [
        "Positive sentiment data p,d,q values\n",
        "* p=[0,1]\n",
        "* d=0\n",
        "* q=[0,1,2]"
      ],
      "metadata": {
        "id": "nkwsr4xKIM5b"
      }
    },
    {
      "cell_type": "code",
      "source": [
        "checkStationarity(d_seasonal_p)"
      ],
      "metadata": {
        "colab": {
          "base_uri": "https://localhost:8080/",
          "height": 35
        },
        "id": "T6muY2QE7V3Z",
        "outputId": "eefb6b8e-47c0-487c-f355-d5489b8f3d8a"
      },
      "execution_count": 134,
      "outputs": [
        {
          "output_type": "execute_result",
          "data": {
            "text/plain": [
              "'Data is Stationary. Proceed to model building'"
            ],
            "application/vnd.google.colaboratory.intrinsic+json": {
              "type": "string"
            }
          },
          "metadata": {},
          "execution_count": 134
        }
      ]
    },
    {
      "cell_type": "markdown",
      "source": [
        "As there is seasonality in data we go for SARIMAX model so will find P,D,Q values."
      ],
      "metadata": {
        "id": "ZZuk8AqAJMkB"
      }
    },
    {
      "cell_type": "code",
      "source": [
        "#plotting correlogram for seasonality\n",
        "fig,ax=plt.subplots(1,2,figsize=(15,7))\n",
        "plot_acf(d_seasonal_p,lags=10,ax=ax[0])\n",
        "plot_pacf(d_seasonal_p,lags=10,ax=ax[1])\n",
        "plt.show()"
      ],
      "metadata": {
        "colab": {
          "base_uri": "https://localhost:8080/",
          "height": 447
        },
        "id": "bxNOJIda7cCP",
        "outputId": "fbe6eaac-8f90-4aa0-e35b-f47aa164c374"
      },
      "execution_count": 135,
      "outputs": [
        {
          "output_type": "display_data",
          "data": {
            "text/plain": [
              "<Figure size 1080x504 with 2 Axes>"
            ],
            "image/png": "[encoded data removed]"
          },
          "metadata": {}
        }
      ]
    },
    {
      "cell_type": "markdown",
      "source": [
        "Positive sentiment data P,D,Q values\n",
        "* P=[0,1]\n",
        "* D=0\n",
        "* Q=[0,1,2]\n"
      ],
      "metadata": {
        "id": "dm-DJumQJRmx"
      }
    },
    {
      "cell_type": "code",
      "source": [
        "# Splitting the data into train and test by row indexing\n",
        "ss=int(len(Positive)*0.70)\n",
        "train_pos=Positive[:ss]\n",
        "test_pos=Positive[ss:]"
      ],
      "metadata": {
        "id": "kR63lNfs7cfw"
      },
      "execution_count": 88,
      "outputs": []
    },
    {
      "cell_type": "markdown",
      "source": [
        "* p=[0,1]\n",
        "* d=0\n",
        "* q=[0,1,2]\n",
        "* P=[0,1]\n",
        "* D=0\n",
        "* Q=[0,1,2]"
      ],
      "metadata": {
        "id": "8Kofk5ZdKHyE"
      }
    },
    {
      "cell_type": "code",
      "source": [
        "p=[]\n",
        "q=[]\n",
        "P=[]\n",
        "Q=[]\n",
        "aic=[]\n",
        "for i in range(2):\n",
        "  for j in range(3):\n",
        "    for k in range(2):\n",
        "      for l in range(3):\n",
        "        sarima_pos=SARIMAX(Positive,order=(i,0,j),seasonal_order=(k,0,l,4),enforce_stationarity=False).fit()\n",
        "        p.append(i)\n",
        "        q.append(j)\n",
        "        P.append(k)\n",
        "        Q.append(l)\n",
        "        aic.append(sarima_pos.aic)"
      ],
      "metadata": {
        "id": "XrR32kJO7coa"
      },
      "execution_count": 136,
      "outputs": []
    },
    {
      "cell_type": "code",
      "source": [
        "df=pd.DataFrame({\"p\":p,\"q\":q,\"P\":P,\"Q\":Q,\"AIC\":aic})\n",
        "df.sort_values(by='AIC',ascending=True).head()"
      ],
      "metadata": {
        "colab": {
          "base_uri": "https://localhost:8080/",
          "height": 206
        },
        "id": "fUngcFaL7vXk",
        "outputId": "c5a982c5-cbf3-4644-d1d5-3c72325f0bae"
      },
      "execution_count": 138,
      "outputs": [
        {
          "output_type": "execute_result",
          "data": {
            "text/plain": [
              "    p  q  P  Q         AIC\n",
              "32  1  2  0  2  221.144916\n",
              "35  1  2  1  2  222.556143\n",
              "14  0  2  0  2  227.318174\n",
              "17  0  2  1  2  228.425169\n",
              "26  1  1  0  2  239.514289"
            ],
            "text/html": [
              "\n",
              "  <div id=\"df-b1361370-3598-4edb-9946-c6acc27ff0b0\">\n",
              "    <div class=\"colab-df-container\">\n",
              "      <div>\n",
              "<style scoped>\n",
              "    .dataframe tbody tr th:only-of-type {\n",
              "        vertical-align: middle;\n",
              "    }\n",
              "\n",
              "    .dataframe tbody tr th {\n",
              "        vertical-align: top;\n",
              "    }\n",
              "\n",
              "    .dataframe thead th {\n",
              "        text-align: right;\n",
              "    }\n",
              "</style>\n",
              "<table border=\"1\" class=\"dataframe\">\n",
              "  <thead>\n",
              "    <tr style=\"text-align: right;\">\n",
              "      <th></th>\n",
              "      <th>p</th>\n",
              "      <th>q</th>\n",
              "      <th>P</th>\n",
              "      <th>Q</th>\n",
              "      <th>AIC</th>\n",
              "    </tr>\n",
              "  </thead>\n",
              "  <tbody>\n",
              "    <tr>\n",
              "      <th>32</th>\n",
              "      <td>1</td>\n",
              "      <td>2</td>\n",
              "      <td>0</td>\n",
              "      <td>2</td>\n",
              "      <td>221.144916</td>\n",
              "    </tr>\n",
              "    <tr>\n",
              "      <th>35</th>\n",
              "      <td>1</td>\n",
              "      <td>2</td>\n",
              "      <td>1</td>\n",
              "      <td>2</td>\n",
              "      <td>222.556143</td>\n",
              "    </tr>\n",
              "    <tr>\n",
              "      <th>14</th>\n",
              "      <td>0</td>\n",
              "      <td>2</td>\n",
              "      <td>0</td>\n",
              "      <td>2</td>\n",
              "      <td>227.318174</td>\n",
              "    </tr>\n",
              "    <tr>\n",
              "      <th>17</th>\n",
              "      <td>0</td>\n",
              "      <td>2</td>\n",
              "      <td>1</td>\n",
              "      <td>2</td>\n",
              "      <td>228.425169</td>\n",
              "    </tr>\n",
              "    <tr>\n",
              "      <th>26</th>\n",
              "      <td>1</td>\n",
              "      <td>1</td>\n",
              "      <td>0</td>\n",
              "      <td>2</td>\n",
              "      <td>239.514289</td>\n",
              "    </tr>\n",
              "  </tbody>\n",
              "</table>\n",
              "</div>\n",
              "      <button class=\"colab-df-convert\" onclick=\"convertToInteractive('df-b1361370-3598-4edb-9946-c6acc27ff0b0')\"\n",
              "              title=\"Convert this dataframe to an interactive table.\"\n",
              "              style=\"display:none;\">\n",
              "        \n",
              "  <svg xmlns=\"http://www.w3.org/2000/svg\" height=\"24px\"viewBox=\"0 0 24 24\"\n",
              "       width=\"24px\">\n",
              "    <path d=\"M0 0h24v24H0V0z\" fill=\"none\"/>\n",
              "    <path d=\"M18.56 5.44l.94 2.06.94-2.06 2.06-.94-2.06-.94-.94-2.06-.94 2.06-2.06.94zm-11 1L8.5 8.5l.94-2.06 2.06-.94-2.06-.94L8.5 2.5l-.94 2.06-2.06.94zm10 10l.94 2.06.94-2.06 2.06-.94-2.06-.94-.94-2.06-.94 2.06-2.06.94z\"/><path d=\"M17.41 7.96l-1.37-1.37c-.4-.4-.92-.59-1.43-.59-.52 0-1.04.2-1.43.59L10.3 9.45l-7.72 7.72c-.78.78-.78 2.05 0 2.83L4 21.41c.39.39.9.59 1.41.59.51 0 1.02-.2 1.41-.59l7.78-7.78 2.81-2.81c.8-.78.8-2.07 0-2.86zM5.41 20L4 18.59l7.72-7.72 1.47 1.35L5.41 20z\"/>\n",
              "  </svg>\n",
              "      </button>\n",
              "      \n",
              "  <style>\n",
              "    .colab-df-container {\n",
              "      display:flex;\n",
              "      flex-wrap:wrap;\n",
              "      gap: 12px;\n",
              "    }\n",
              "\n",
              "    .colab-df-convert {\n",
              "      background-color: #E8F0FE;\n",
              "      border: none;\n",
              "      border-radius: 50%;\n",
              "      cursor: pointer;\n",
              "      display: none;\n",
              "      fill: #1967D2;\n",
              "      height: 32px;\n",
              "      padding: 0 0 0 0;\n",
              "      width: 32px;\n",
              "    }\n",
              "\n",
              "    .colab-df-convert:hover {\n",
              "      background-color: #E2EBFA;\n",
              "      box-shadow: 0px 1px 2px rgba(60, 64, 67, 0.3), 0px 1px 3px 1px rgba(60, 64, 67, 0.15);\n",
              "      fill: #174EA6;\n",
              "    }\n",
              "\n",
              "    [theme=dark] .colab-df-convert {\n",
              "      background-color: #3B4455;\n",
              "      fill: #D2E3FC;\n",
              "    }\n",
              "\n",
              "    [theme=dark] .colab-df-convert:hover {\n",
              "      background-color: #434B5C;\n",
              "      box-shadow: 0px 1px 3px 1px rgba(0, 0, 0, 0.15);\n",
              "      filter: drop-shadow(0px 1px 2px rgba(0, 0, 0, 0.3));\n",
              "      fill: #FFFFFF;\n",
              "    }\n",
              "  </style>\n",
              "\n",
              "      <script>\n",
              "        const buttonEl =\n",
              "          document.querySelector('#df-b1361370-3598-4edb-9946-c6acc27ff0b0 button.colab-df-convert');\n",
              "        buttonEl.style.display =\n",
              "          google.colab.kernel.accessAllowed ? 'block' : 'none';\n",
              "\n",
              "        async function convertToInteractive(key) {\n",
              "          const element = document.querySelector('#df-b1361370-3598-4edb-9946-c6acc27ff0b0');\n",
              "          const dataTable =\n",
              "            await google.colab.kernel.invokeFunction('convertToInteractive',\n",
              "                                                     [key], {});\n",
              "          if (!dataTable) return;\n",
              "\n",
              "          const docLinkHtml = 'Like what you see? Visit the ' +\n",
              "            '<a target=\"_blank\" href=https://colab.research.google.com/notebooks/data_table.ipynb>data table notebook</a>'\n",
              "            + ' to learn more about interactive tables.';\n",
              "          element.innerHTML = '';\n",
              "          dataTable['output_type'] = 'display_data';\n",
              "          await google.colab.output.renderOutput(dataTable, element);\n",
              "          const docLink = document.createElement('div');\n",
              "          docLink.innerHTML = docLinkHtml;\n",
              "          element.appendChild(docLink);\n",
              "        }\n",
              "      </script>\n",
              "    </div>\n",
              "  </div>\n",
              "  "
            ]
          },
          "metadata": {},
          "execution_count": 138
        }
      ]
    },
    {
      "cell_type": "code",
      "source": [
        "# defining the model for Time series analysis plot\n",
        "def TSAplots(data=Positive,train=train_pos,p=1,d=0,q=2,P=0,Q=2,D=0,title=\"Trend of Positive Sentiment Count Prime Pantry\"):\n",
        "    global m2_pos\n",
        "    m2_pos=SARIMAX(train,order=(p,d,q),seasonal_order=(P,D,Q,4)).fit()\n",
        "    f2_pos=m2_pos.predict(len(train),len(data)-1)\n",
        "    new_model_pos=SARIMAX(data,order=(p,d,q),seasonal_order=(P,D,Q,4)).fit()\n",
        "    fc_pos=new_model_pos.forecast(10)\n",
        "    plt.subplots(figsize=(12,8))\n",
        "    plt.plot(data,color='orange',label='Actual')\n",
        "    plt.plot(fc_pos.combine_first(data[:-2:-1]),color='green',label='Forecast')                     #Combine two DataFrame objects by filling null values in one DataFrame with non-null values from other DataFrame\n",
        "    plt.plot(f2_pos,color='blue',label='predicted test')\n",
        "    plt.title(title,fontsize=14)\n",
        "    plt.xlabel('Time Period (Quaterly)',fontsize=12)\n",
        "    plt.ylabel('Count of Sentiment',fontsize=12)\n",
        "    plt.legend(loc='left')"
      ],
      "metadata": {
        "id": "NrYFJ24f7viq"
      },
      "execution_count": 154,
      "outputs": []
    },
    {
      "cell_type": "code",
      "source": [
        "# Time Series Analysis plot for Actual,Predicted and Forecast \n",
        "TSAplots(data=Positive,train=train_pos,p=1,d=0,q=2,P=0,Q=2,D=0,title=\"Trend of Positive Sentiment Count Prime Pantry\")"
      ],
      "metadata": {
        "colab": {
          "base_uri": "https://localhost:8080/",
          "height": 519
        },
        "id": "mvDe-MG47pkE",
        "outputId": "0ed6b00d-26ab-4148-823b-2c0c9e254115"
      },
      "execution_count": 166,
      "outputs": [
        {
          "output_type": "display_data",
          "data": {
            "text/plain": [
              "<Figure size 864x576 with 1 Axes>"
            ],
            "image/png": "[encoded data removed]"
          },
          "metadata": {}
        }
      ]
    },
    {
      "cell_type": "markdown",
      "source": [
        "From the plot we can say that the positive sentiments of customers will decrease till 2020 and after that it will increase,as per shopping habits of people.\n"
      ],
      "metadata": {
        "id": "mKkuyK6oaATL"
      }
    },
    {
      "cell_type": "code",
      "source": [
        "#perform Ljung-box test\n",
        "pvalue = sm.stats.acorr_ljungbox(m2_pos.resid,lags=[1],return_df=True)['lb_pvalue'].values\n",
        "if pvalue < 0.05:\n",
        "    print(\"Reject H0. Bad model\")\n",
        "else:\n",
        "    print(\"Fail-to-Reject H0. Good model\")"
      ],
      "metadata": {
        "colab": {
          "base_uri": "https://localhost:8080/"
        },
        "id": "kxG6_oXZOn4Y",
        "outputId": "a08c3658-4620-4338-fa11-12365619019c"
      },
      "execution_count": 167,
      "outputs": [
        {
          "output_type": "stream",
          "name": "stdout",
          "text": [
            "Fail-to-Reject H0. Good model\n"
          ]
        }
      ]
    },
    {
      "cell_type": "code",
      "source": [
        "#Summary of SARIMAX model\n",
        "m2_pos.summary()"
      ],
      "metadata": {
        "colab": {
          "base_uri": "https://localhost:8080/",
          "height": 500
        },
        "id": "MgrUr8NoPz51",
        "outputId": "b7a0145f-941f-475f-c581-7763043a91ab"
      },
      "execution_count": 168,
      "outputs": [
        {
          "output_type": "execute_result",
          "data": {
            "text/plain": [
              "<class 'statsmodels.iolib.summary.Summary'>\n",
              "\"\"\"\n",
              "                                     SARIMAX Results                                     \n",
              "=========================================================================================\n",
              "Dep. Variable:                           Neutral   No. Observations:                   16\n",
              "Model:             SARIMAX(1, 0, 2)x(0, 0, 2, 4)   Log Likelihood                -118.489\n",
              "Date:                           Wed, 18 Jan 2023   AIC                            248.979\n",
              "Time:                                   09:39:52   BIC                            253.614\n",
              "Sample:                               03-31-2013   HQIC                           249.216\n",
              "                                    - 12-31-2016                                         \n",
              "Covariance Type:                             opg                                         \n",
              "==============================================================================\n",
              "                 coef    std err          z      P>|z|      [0.025      0.975]\n",
              "------------------------------------------------------------------------------\n",
              "ar.L1          0.9394      0.078     12.002      0.000       0.786       1.093\n",
              "ma.L1         -0.3636      3.006     -0.121      0.904      -6.255       5.528\n",
              "ma.L2          0.9943     14.974      0.066      0.947     -28.353      30.342\n",
              "ma.S.L4        1.3231      9.635      0.137      0.891     -17.562      20.208\n",
              "ma.S.L8        0.9646     15.416      0.063      0.950     -29.250      31.180\n",
              "sigma2       5.63e+04      0.000   1.58e+08      0.000    5.63e+04    5.63e+04\n",
              "===================================================================================\n",
              "Ljung-Box (L1) (Q):                   0.49   Jarque-Bera (JB):                11.22\n",
              "Prob(Q):                              0.48   Prob(JB):                         0.00\n",
              "Heteroskedasticity (H):             409.25   Skew:                            -1.36\n",
              "Prob(H) (two-sided):                  0.00   Kurtosis:                         6.06\n",
              "===================================================================================\n",
              "\n",
              "Warnings:\n",
              "[1] Covariance matrix calculated using the outer product of gradients (complex-step).\n",
              "[2] Covariance matrix is singular or near-singular, with condition number 6.62e+25. Standard errors may be unstable.\n",
              "\"\"\""
            ],
            "text/html": [
              "<table class=\"simpletable\">\n",
              "<caption>SARIMAX Results</caption>\n",
              "<tr>\n",
              "  <th>Dep. Variable:</th>              <td>Neutral</td>            <th>  No. Observations:  </th>    <td>16</td>   \n",
              "</tr>\n",
              "<tr>\n",
              "  <th>Model:</th>           <td>SARIMAX(1, 0, 2)x(0, 0, 2, 4)</td> <th>  Log Likelihood     </th> <td>-118.489</td>\n",
              "</tr>\n",
              "<tr>\n",
              "  <th>Date:</th>                  <td>Wed, 18 Jan 2023</td>        <th>  AIC                </th>  <td>248.979</td>\n",
              "</tr>\n",
              "<tr>\n",
              "  <th>Time:</th>                      <td>09:39:52</td>            <th>  BIC                </th>  <td>253.614</td>\n",
              "</tr>\n",
              "<tr>\n",
              "  <th>Sample:</th>                   <td>03-31-2013</td>           <th>  HQIC               </th>  <td>249.216</td>\n",
              "</tr>\n",
              "<tr>\n",
              "  <th></th>                         <td>- 12-31-2016</td>          <th>                     </th>     <td> </td>   \n",
              "</tr>\n",
              "<tr>\n",
              "  <th>Covariance Type:</th>              <td>opg</td>              <th>                     </th>     <td> </td>   \n",
              "</tr>\n",
              "</table>\n",
              "<table class=\"simpletable\">\n",
              "<tr>\n",
              "     <td></td>        <th>coef</th>     <th>std err</th>      <th>z</th>      <th>P>|z|</th>  <th>[0.025</th>    <th>0.975]</th>  \n",
              "</tr>\n",
              "<tr>\n",
              "  <th>ar.L1</th>   <td>    0.9394</td> <td>    0.078</td> <td>   12.002</td> <td> 0.000</td> <td>    0.786</td> <td>    1.093</td>\n",
              "</tr>\n",
              "<tr>\n",
              "  <th>ma.L1</th>   <td>   -0.3636</td> <td>    3.006</td> <td>   -0.121</td> <td> 0.904</td> <td>   -6.255</td> <td>    5.528</td>\n",
              "</tr>\n",
              "<tr>\n",
              "  <th>ma.L2</th>   <td>    0.9943</td> <td>   14.974</td> <td>    0.066</td> <td> 0.947</td> <td>  -28.353</td> <td>   30.342</td>\n",
              "</tr>\n",
              "<tr>\n",
              "  <th>ma.S.L4</th> <td>    1.3231</td> <td>    9.635</td> <td>    0.137</td> <td> 0.891</td> <td>  -17.562</td> <td>   20.208</td>\n",
              "</tr>\n",
              "<tr>\n",
              "  <th>ma.S.L8</th> <td>    0.9646</td> <td>   15.416</td> <td>    0.063</td> <td> 0.950</td> <td>  -29.250</td> <td>   31.180</td>\n",
              "</tr>\n",
              "<tr>\n",
              "  <th>sigma2</th>  <td>  5.63e+04</td> <td>    0.000</td> <td> 1.58e+08</td> <td> 0.000</td> <td> 5.63e+04</td> <td> 5.63e+04</td>\n",
              "</tr>\n",
              "</table>\n",
              "<table class=\"simpletable\">\n",
              "<tr>\n",
              "  <th>Ljung-Box (L1) (Q):</th>      <td>0.49</td>  <th>  Jarque-Bera (JB):  </th> <td>11.22</td>\n",
              "</tr>\n",
              "<tr>\n",
              "  <th>Prob(Q):</th>                 <td>0.48</td>  <th>  Prob(JB):          </th> <td>0.00</td> \n",
              "</tr>\n",
              "<tr>\n",
              "  <th>Heteroskedasticity (H):</th> <td>409.25</td> <th>  Skew:              </th> <td>-1.36</td>\n",
              "</tr>\n",
              "<tr>\n",
              "  <th>Prob(H) (two-sided):</th>     <td>0.00</td>  <th>  Kurtosis:          </th> <td>6.06</td> \n",
              "</tr>\n",
              "</table><br/><br/>Warnings:<br/>[1] Covariance matrix calculated using the outer product of gradients (complex-step).<br/>[2] Covariance matrix is singular or near-singular, with condition number 6.62e+25. Standard errors may be unstable."
            ]
          },
          "metadata": {},
          "execution_count": 168
        }
      ]
    },
    {
      "cell_type": "markdown",
      "source": [
        "### Neutral Sentiment Customer Shopping Pattern and Review Time Series Analysis."
      ],
      "metadata": {
        "id": "NOSBIY1_K7Cb"
      }
    },
    {
      "cell_type": "code",
      "source": [
        "#seasonal decomposition for neutral sentiment,period=4 as there are 4 months in each qaurter\n",
        "decomposition=seasonal_decompose(Neutral,period=4)\n",
        "decomposition.plot();"
      ],
      "metadata": {
        "colab": {
          "base_uri": "https://localhost:8080/",
          "height": 293
        },
        "id": "v97iKQYqLFwN",
        "outputId": "d2b40ef8-f883-4cee-e8b9-d94aac964af1"
      },
      "execution_count": 141,
      "outputs": [
        {
          "output_type": "display_data",
          "data": {
            "text/plain": [
              "<Figure size 432x288 with 4 Axes>"
            ],
            "image/png": "[encoded data removed]"
          },
          "metadata": {}
        }
      ]
    },
    {
      "cell_type": "markdown",
      "source": [
        "We can see trend and seasonality as well as noise points in our data."
      ],
      "metadata": {
        "id": "En7EpPYNLNgx"
      }
    },
    {
      "cell_type": "code",
      "source": [
        "#decomposition for trend ,seasonality and residual\n",
        "d_trend_neu=decomposition.trend\n",
        "d_seasonal_neu=decomposition.seasonal\n",
        "d_residual_neu=decomposition.resid"
      ],
      "metadata": {
        "id": "9ty9556DLFoq"
      },
      "execution_count": 142,
      "outputs": []
    },
    {
      "cell_type": "code",
      "source": [
        "# checking for stationarity of the positive sentiment data\n",
        "checkStationarity(Neutral.diff(4)[4:])"
      ],
      "metadata": {
        "colab": {
          "base_uri": "https://localhost:8080/",
          "height": 35
        },
        "id": "EJ1pV6FvLFfP",
        "outputId": "0b43415d-037b-44e6-95ec-94542ba65a04"
      },
      "execution_count": 143,
      "outputs": [
        {
          "output_type": "execute_result",
          "data": {
            "text/plain": [
              "'Data is Stationary. Proceed to model building'"
            ],
            "application/vnd.google.colaboratory.intrinsic+json": {
              "type": "string"
            }
          },
          "metadata": {},
          "execution_count": 143
        }
      ]
    },
    {
      "cell_type": "code",
      "source": [
        "#plotting correlogram for positive sentiment data\n",
        "fig,ax=plt.subplots(1,2,figsize=(15,7))\n",
        "plot_acf(Neutral,lags=10,ax=ax[0])\n",
        "plot_pacf(Neutral,lags=10,ax=ax[1])\n",
        "plt.show()"
      ],
      "metadata": {
        "colab": {
          "base_uri": "https://localhost:8080/",
          "height": 447
        },
        "id": "IdnSJQn7LFVm",
        "outputId": "38284b54-1843-459b-995a-904b88debe25"
      },
      "execution_count": 144,
      "outputs": [
        {
          "output_type": "display_data",
          "data": {
            "text/plain": [
              "<Figure size 1080x504 with 2 Axes>"
            ],
            "image/png": "[encoded data removed]"
          },
          "metadata": {}
        }
      ]
    },
    {
      "cell_type": "markdown",
      "source": [
        "Neutral sentiment data p,d,q values\n",
        "* p=[0,1]\n",
        "* d=4\n",
        "* q=[0,1,2]"
      ],
      "metadata": {
        "id": "LLgNV4LZLrAk"
      }
    },
    {
      "cell_type": "code",
      "source": [
        "checkStationarity(d_seasonal_neu)"
      ],
      "metadata": {
        "colab": {
          "base_uri": "https://localhost:8080/",
          "height": 35
        },
        "id": "UyFr2uK7Lwxb",
        "outputId": "4af4d255-a636-4415-f7f3-650b0deb4efa"
      },
      "execution_count": 145,
      "outputs": [
        {
          "output_type": "execute_result",
          "data": {
            "text/plain": [
              "'Data is Stationary. Proceed to model building'"
            ],
            "application/vnd.google.colaboratory.intrinsic+json": {
              "type": "string"
            }
          },
          "metadata": {},
          "execution_count": 145
        }
      ]
    },
    {
      "cell_type": "markdown",
      "source": [
        "As there is seasonality in data we go for SARIMAX model so will find P,D,Q values."
      ],
      "metadata": {
        "id": "UPG2WIYdLfF4"
      }
    },
    {
      "cell_type": "code",
      "source": [
        "#plotting correlogram for seasonality\n",
        "fig,ax=plt.subplots(1,2,figsize=(15,7))\n",
        "plot_acf(d_seasonal_neu,lags=10,ax=ax[0])\n",
        "plot_pacf(d_seasonal_neu,lags=10,ax=ax[1])\n",
        "plt.show()"
      ],
      "metadata": {
        "colab": {
          "base_uri": "https://localhost:8080/",
          "height": 447
        },
        "id": "XZ2tVzDHLwiP",
        "outputId": "0c6be825-1791-4ac3-8c5f-b93e2c50e9bd"
      },
      "execution_count": 146,
      "outputs": [
        {
          "output_type": "display_data",
          "data": {
            "text/plain": [
              "<Figure size 1080x504 with 2 Axes>"
            ],
            "image/png": "[encoded data removed]"
          },
          "metadata": {}
        }
      ]
    },
    {
      "cell_type": "markdown",
      "source": [
        "Neutral sentiment data P,D,Q values\n",
        "* P=[0,1,2]\n",
        "* D=0\n",
        "* Q=[0,1,2]\n"
      ],
      "metadata": {
        "id": "cNSYg7yiMBpw"
      }
    },
    {
      "cell_type": "code",
      "source": [
        "# Splitting the data into train and test by row indexing\n",
        "ss=int(len(Neutral)*0.70)\n",
        "train_pos=Neutral[:ss]\n",
        "test_pos=Neutral[ss:]"
      ],
      "metadata": {
        "id": "uOnstCMzMdF3"
      },
      "execution_count": 148,
      "outputs": []
    },
    {
      "cell_type": "markdown",
      "source": [
        "* p=[0,1]\n",
        "* d=4\n",
        "* q=[0,1,2]\n",
        "* P=[0,1,2]\n",
        "* D=0\n",
        "* Q=[0,1,2]"
      ],
      "metadata": {
        "id": "VzfGDVnNMJPb"
      }
    },
    {
      "cell_type": "code",
      "source": [
        "p=[]\n",
        "q=[]\n",
        "P=[]\n",
        "Q=[]\n",
        "aic=[]\n",
        "for i in range(2):\n",
        "  for j in range(3):\n",
        "    for k in range(2):\n",
        "      for l in range(3):\n",
        "        sarima_neu=SARIMAX(Positive,order=(i,4,j),seasonal_order=(k,0,l,4),enforce_stationarity=False).fit()\n",
        "        p.append(i)\n",
        "        q.append(j)\n",
        "        P.append(k)\n",
        "        Q.append(l)\n",
        "        aic.append(sarima_neu.aic)"
      ],
      "metadata": {
        "id": "uR90uoKaLFLL"
      },
      "execution_count": 147,
      "outputs": []
    },
    {
      "cell_type": "code",
      "source": [
        "df=pd.DataFrame({\"p\":p,\"q\":q,\"P\":P,\"Q\":Q,\"AIC\":aic})\n",
        "df.sort_values(by='AIC',ascending=True).head()"
      ],
      "metadata": {
        "colab": {
          "base_uri": "https://localhost:8080/",
          "height": 206
        },
        "id": "eFb3J8oTMoTB",
        "outputId": "aa439394-e3cd-4f97-8417-e35c623525b4"
      },
      "execution_count": 149,
      "outputs": [
        {
          "output_type": "execute_result",
          "data": {
            "text/plain": [
              "    p  q  P  Q         AIC\n",
              "14  0  2  0  2  161.941626\n",
              "17  0  2  1  2  163.685614\n",
              "35  1  2  1  2  167.138236\n",
              "32  1  2  0  2  169.575601\n",
              "26  1  1  0  2  181.808206"
            ],
            "text/html": [
              "\n",
              "  <div id=\"df-49e71738-0d3f-419c-84ac-7779f96f150c\">\n",
              "    <div class=\"colab-df-container\">\n",
              "      <div>\n",
              "<style scoped>\n",
              "    .dataframe tbody tr th:only-of-type {\n",
              "        vertical-align: middle;\n",
              "    }\n",
              "\n",
              "    .dataframe tbody tr th {\n",
              "        vertical-align: top;\n",
              "    }\n",
              "\n",
              "    .dataframe thead th {\n",
              "        text-align: right;\n",
              "    }\n",
              "</style>\n",
              "<table border=\"1\" class=\"dataframe\">\n",
              "  <thead>\n",
              "    <tr style=\"text-align: right;\">\n",
              "      <th></th>\n",
              "      <th>p</th>\n",
              "      <th>q</th>\n",
              "      <th>P</th>\n",
              "      <th>Q</th>\n",
              "      <th>AIC</th>\n",
              "    </tr>\n",
              "  </thead>\n",
              "  <tbody>\n",
              "    <tr>\n",
              "      <th>14</th>\n",
              "      <td>0</td>\n",
              "      <td>2</td>\n",
              "      <td>0</td>\n",
              "      <td>2</td>\n",
              "      <td>161.941626</td>\n",
              "    </tr>\n",
              "    <tr>\n",
              "      <th>17</th>\n",
              "      <td>0</td>\n",
              "      <td>2</td>\n",
              "      <td>1</td>\n",
              "      <td>2</td>\n",
              "      <td>163.685614</td>\n",
              "    </tr>\n",
              "    <tr>\n",
              "      <th>35</th>\n",
              "      <td>1</td>\n",
              "      <td>2</td>\n",
              "      <td>1</td>\n",
              "      <td>2</td>\n",
              "      <td>167.138236</td>\n",
              "    </tr>\n",
              "    <tr>\n",
              "      <th>32</th>\n",
              "      <td>1</td>\n",
              "      <td>2</td>\n",
              "      <td>0</td>\n",
              "      <td>2</td>\n",
              "      <td>169.575601</td>\n",
              "    </tr>\n",
              "    <tr>\n",
              "      <th>26</th>\n",
              "      <td>1</td>\n",
              "      <td>1</td>\n",
              "      <td>0</td>\n",
              "      <td>2</td>\n",
              "      <td>181.808206</td>\n",
              "    </tr>\n",
              "  </tbody>\n",
              "</table>\n",
              "</div>\n",
              "      <button class=\"colab-df-convert\" onclick=\"convertToInteractive('df-49e71738-0d3f-419c-84ac-7779f96f150c')\"\n",
              "              title=\"Convert this dataframe to an interactive table.\"\n",
              "              style=\"display:none;\">\n",
              "        \n",
              "  <svg xmlns=\"http://www.w3.org/2000/svg\" height=\"24px\"viewBox=\"0 0 24 24\"\n",
              "       width=\"24px\">\n",
              "    <path d=\"M0 0h24v24H0V0z\" fill=\"none\"/>\n",
              "    <path d=\"M18.56 5.44l.94 2.06.94-2.06 2.06-.94-2.06-.94-.94-2.06-.94 2.06-2.06.94zm-11 1L8.5 8.5l.94-2.06 2.06-.94-2.06-.94L8.5 2.5l-.94 2.06-2.06.94zm10 10l.94 2.06.94-2.06 2.06-.94-2.06-.94-.94-2.06-.94 2.06-2.06.94z\"/><path d=\"M17.41 7.96l-1.37-1.37c-.4-.4-.92-.59-1.43-.59-.52 0-1.04.2-1.43.59L10.3 9.45l-7.72 7.72c-.78.78-.78 2.05 0 2.83L4 21.41c.39.39.9.59 1.41.59.51 0 1.02-.2 1.41-.59l7.78-7.78 2.81-2.81c.8-.78.8-2.07 0-2.86zM5.41 20L4 18.59l7.72-7.72 1.47 1.35L5.41 20z\"/>\n",
              "  </svg>\n",
              "      </button>\n",
              "      \n",
              "  <style>\n",
              "    .colab-df-container {\n",
              "      display:flex;\n",
              "      flex-wrap:wrap;\n",
              "      gap: 12px;\n",
              "    }\n",
              "\n",
              "    .colab-df-convert {\n",
              "      background-color: #E8F0FE;\n",
              "      border: none;\n",
              "      border-radius: 50%;\n",
              "      cursor: pointer;\n",
              "      display: none;\n",
              "      fill: #1967D2;\n",
              "      height: 32px;\n",
              "      padding: 0 0 0 0;\n",
              "      width: 32px;\n",
              "    }\n",
              "\n",
              "    .colab-df-convert:hover {\n",
              "      background-color: #E2EBFA;\n",
              "      box-shadow: 0px 1px 2px rgba(60, 64, 67, 0.3), 0px 1px 3px 1px rgba(60, 64, 67, 0.15);\n",
              "      fill: #174EA6;\n",
              "    }\n",
              "\n",
              "    [theme=dark] .colab-df-convert {\n",
              "      background-color: #3B4455;\n",
              "      fill: #D2E3FC;\n",
              "    }\n",
              "\n",
              "    [theme=dark] .colab-df-convert:hover {\n",
              "      background-color: #434B5C;\n",
              "      box-shadow: 0px 1px 3px 1px rgba(0, 0, 0, 0.15);\n",
              "      filter: drop-shadow(0px 1px 2px rgba(0, 0, 0, 0.3));\n",
              "      fill: #FFFFFF;\n",
              "    }\n",
              "  </style>\n",
              "\n",
              "      <script>\n",
              "        const buttonEl =\n",
              "          document.querySelector('#df-49e71738-0d3f-419c-84ac-7779f96f150c button.colab-df-convert');\n",
              "        buttonEl.style.display =\n",
              "          google.colab.kernel.accessAllowed ? 'block' : 'none';\n",
              "\n",
              "        async function convertToInteractive(key) {\n",
              "          const element = document.querySelector('#df-49e71738-0d3f-419c-84ac-7779f96f150c');\n",
              "          const dataTable =\n",
              "            await google.colab.kernel.invokeFunction('convertToInteractive',\n",
              "                                                     [key], {});\n",
              "          if (!dataTable) return;\n",
              "\n",
              "          const docLinkHtml = 'Like what you see? Visit the ' +\n",
              "            '<a target=\"_blank\" href=https://colab.research.google.com/notebooks/data_table.ipynb>data table notebook</a>'\n",
              "            + ' to learn more about interactive tables.';\n",
              "          element.innerHTML = '';\n",
              "          dataTable['output_type'] = 'display_data';\n",
              "          await google.colab.output.renderOutput(dataTable, element);\n",
              "          const docLink = document.createElement('div');\n",
              "          docLink.innerHTML = docLinkHtml;\n",
              "          element.appendChild(docLink);\n",
              "        }\n",
              "      </script>\n",
              "    </div>\n",
              "  </div>\n",
              "  "
            ]
          },
          "metadata": {},
          "execution_count": 149
        }
      ]
    },
    {
      "cell_type": "code",
      "source": [
        "# Time Series Analysis plot for Actual,Predicted and Forecast \n",
        "TSAplots(data=Neutral,train=train_neu,p=1,d=4,q=2,P=1,Q=2,D=0,title=\"Trend of Neutral Sentiment Count Prime Pantry\")"
      ],
      "metadata": {
        "colab": {
          "base_uri": "https://localhost:8080/",
          "height": 519
        },
        "id": "VS4gWSWQMupk",
        "outputId": "4eb79ef1-4e16-4f53-8584-c16d8d79cfdf"
      },
      "execution_count": 169,
      "outputs": [
        {
          "output_type": "display_data",
          "data": {
            "text/plain": [
              "<Figure size 864x576 with 1 Axes>"
            ],
            "image/png": "[encoded data removed]"
          },
          "metadata": {}
        }
      ]
    },
    {
      "cell_type": "markdown",
      "source": [
        "From the plot we can say that the neutral  sentiments of customers will gradually decrease ,as per shopping habits of people."
      ],
      "metadata": {
        "id": "wXTfN1tDa7tM"
      }
    },
    {
      "cell_type": "code",
      "source": [
        "#perform Ljung-box test\n",
        "pvalue = sm.stats.acorr_ljungbox(m2_pos.resid,lags=[1],return_df=True)['lb_pvalue'].values\n",
        "if pvalue < 0.05:\n",
        "    print(\"Reject H0. Bad model\")\n",
        "else:\n",
        "    print(\"Fail-to-Reject H0. Good model\")"
      ],
      "metadata": {
        "colab": {
          "base_uri": "https://localhost:8080/"
        },
        "id": "kiD6k8rWOucD",
        "outputId": "2cb03b79-5ba6-4b98-cdd9-fd87771d054d"
      },
      "execution_count": 170,
      "outputs": [
        {
          "output_type": "stream",
          "name": "stdout",
          "text": [
            "Fail-to-Reject H0. Good model\n"
          ]
        }
      ]
    },
    {
      "cell_type": "code",
      "source": [
        "#Summary of SARIMAX model\n",
        "m2_pos.summary()"
      ],
      "metadata": {
        "colab": {
          "base_uri": "https://localhost:8080/",
          "height": 503
        },
        "id": "_DvbGvFHQFu0",
        "outputId": "775ad1d0-a035-4ae7-b215-5b4d0488198d"
      },
      "execution_count": 171,
      "outputs": [
        {
          "output_type": "execute_result",
          "data": {
            "text/plain": [
              "<class 'statsmodels.iolib.summary.Summary'>\n",
              "\"\"\"\n",
              "                                     SARIMAX Results                                     \n",
              "=========================================================================================\n",
              "Dep. Variable:                           Neutral   No. Observations:                   16\n",
              "Model:             SARIMAX(1, 4, 2)x(1, 0, 2, 4)   Log Likelihood                 -87.778\n",
              "Date:                           Wed, 18 Jan 2023   AIC                            189.555\n",
              "Time:                                   09:40:31   BIC                            192.950\n",
              "Sample:                               03-31-2013   HQIC                           188.299\n",
              "                                    - 12-31-2016                                         \n",
              "Covariance Type:                             opg                                         \n",
              "==============================================================================\n",
              "                 coef    std err          z      P>|z|      [0.025      0.975]\n",
              "------------------------------------------------------------------------------\n",
              "ar.L1         -0.9960      0.324     -3.070      0.002      -1.632      -0.360\n",
              "ma.L1         -1.0637      6.881     -0.155      0.877     -14.549      12.422\n",
              "ma.L2          0.0707      0.684      0.103      0.918      -1.270       1.411\n",
              "ar.S.L4        0.8039      1.230      0.653      0.513      -1.607       3.215\n",
              "ma.S.L4        0.3045      1.667      0.183      0.855      -2.963       3.572\n",
              "ma.S.L8        0.4310      9.401      0.046      0.963     -17.995      18.857\n",
              "sigma2      8.652e+04   1.07e+06      0.081      0.935   -2.01e+06    2.18e+06\n",
              "===================================================================================\n",
              "Ljung-Box (L1) (Q):                   0.18   Jarque-Bera (JB):                 0.16\n",
              "Prob(Q):                              0.67   Prob(JB):                         0.92\n",
              "Heteroskedasticity (H):               3.66   Skew:                            -0.15\n",
              "Prob(H) (two-sided):                  0.24   Kurtosis:                         2.53\n",
              "===================================================================================\n",
              "\n",
              "Warnings:\n",
              "[1] Covariance matrix calculated using the outer product of gradients (complex-step).\n",
              "\"\"\""
            ],
            "text/html": [
              "<table class=\"simpletable\">\n",
              "<caption>SARIMAX Results</caption>\n",
              "<tr>\n",
              "  <th>Dep. Variable:</th>              <td>Neutral</td>            <th>  No. Observations:  </th>   <td>16</td>   \n",
              "</tr>\n",
              "<tr>\n",
              "  <th>Model:</th>           <td>SARIMAX(1, 4, 2)x(1, 0, 2, 4)</td> <th>  Log Likelihood     </th> <td>-87.778</td>\n",
              "</tr>\n",
              "<tr>\n",
              "  <th>Date:</th>                  <td>Wed, 18 Jan 2023</td>        <th>  AIC                </th> <td>189.555</td>\n",
              "</tr>\n",
              "<tr>\n",
              "  <th>Time:</th>                      <td>09:40:31</td>            <th>  BIC                </th> <td>192.950</td>\n",
              "</tr>\n",
              "<tr>\n",
              "  <th>Sample:</th>                   <td>03-31-2013</td>           <th>  HQIC               </th> <td>188.299</td>\n",
              "</tr>\n",
              "<tr>\n",
              "  <th></th>                         <td>- 12-31-2016</td>          <th>                     </th>    <td> </td>   \n",
              "</tr>\n",
              "<tr>\n",
              "  <th>Covariance Type:</th>              <td>opg</td>              <th>                     </th>    <td> </td>   \n",
              "</tr>\n",
              "</table>\n",
              "<table class=\"simpletable\">\n",
              "<tr>\n",
              "     <td></td>        <th>coef</th>     <th>std err</th>      <th>z</th>      <th>P>|z|</th>  <th>[0.025</th>    <th>0.975]</th>  \n",
              "</tr>\n",
              "<tr>\n",
              "  <th>ar.L1</th>   <td>   -0.9960</td> <td>    0.324</td> <td>   -3.070</td> <td> 0.002</td> <td>   -1.632</td> <td>   -0.360</td>\n",
              "</tr>\n",
              "<tr>\n",
              "  <th>ma.L1</th>   <td>   -1.0637</td> <td>    6.881</td> <td>   -0.155</td> <td> 0.877</td> <td>  -14.549</td> <td>   12.422</td>\n",
              "</tr>\n",
              "<tr>\n",
              "  <th>ma.L2</th>   <td>    0.0707</td> <td>    0.684</td> <td>    0.103</td> <td> 0.918</td> <td>   -1.270</td> <td>    1.411</td>\n",
              "</tr>\n",
              "<tr>\n",
              "  <th>ar.S.L4</th> <td>    0.8039</td> <td>    1.230</td> <td>    0.653</td> <td> 0.513</td> <td>   -1.607</td> <td>    3.215</td>\n",
              "</tr>\n",
              "<tr>\n",
              "  <th>ma.S.L4</th> <td>    0.3045</td> <td>    1.667</td> <td>    0.183</td> <td> 0.855</td> <td>   -2.963</td> <td>    3.572</td>\n",
              "</tr>\n",
              "<tr>\n",
              "  <th>ma.S.L8</th> <td>    0.4310</td> <td>    9.401</td> <td>    0.046</td> <td> 0.963</td> <td>  -17.995</td> <td>   18.857</td>\n",
              "</tr>\n",
              "<tr>\n",
              "  <th>sigma2</th>  <td> 8.652e+04</td> <td> 1.07e+06</td> <td>    0.081</td> <td> 0.935</td> <td>-2.01e+06</td> <td> 2.18e+06</td>\n",
              "</tr>\n",
              "</table>\n",
              "<table class=\"simpletable\">\n",
              "<tr>\n",
              "  <th>Ljung-Box (L1) (Q):</th>     <td>0.18</td> <th>  Jarque-Bera (JB):  </th> <td>0.16</td> \n",
              "</tr>\n",
              "<tr>\n",
              "  <th>Prob(Q):</th>                <td>0.67</td> <th>  Prob(JB):          </th> <td>0.92</td> \n",
              "</tr>\n",
              "<tr>\n",
              "  <th>Heteroskedasticity (H):</th> <td>3.66</td> <th>  Skew:              </th> <td>-0.15</td>\n",
              "</tr>\n",
              "<tr>\n",
              "  <th>Prob(H) (two-sided):</th>    <td>0.24</td> <th>  Kurtosis:          </th> <td>2.53</td> \n",
              "</tr>\n",
              "</table><br/><br/>Warnings:<br/>[1] Covariance matrix calculated using the outer product of gradients (complex-step)."
            ]
          },
          "metadata": {},
          "execution_count": 171
        }
      ]
    },
    {
      "cell_type": "markdown",
      "source": [
        "### Negative Sentiment Customer Shopping Pattern and Review Time Series Analysis."
      ],
      "metadata": {
        "id": "V-6QfFOpQSDy"
      }
    },
    {
      "cell_type": "code",
      "source": [
        "#seasonal decomposition for neutral sentiment,period=4 as there are 4 months in each qaurter\n",
        "decomposition=seasonal_decompose(Negative,period=4)\n",
        "decomposition.plot();"
      ],
      "metadata": {
        "colab": {
          "base_uri": "https://localhost:8080/",
          "height": 293
        },
        "id": "4zjoewEVQRRn",
        "outputId": "8bad9e71-4dc5-478e-d9e2-6854bf514285"
      },
      "execution_count": 172,
      "outputs": [
        {
          "output_type": "display_data",
          "data": {
            "text/plain": [
              "<Figure size 432x288 with 4 Axes>"
            ],
            "image/png": "[encoded data removed]"
          },
          "metadata": {}
        }
      ]
    },
    {
      "cell_type": "markdown",
      "source": [
        "We can see trend and seasonality as well as noise points in our data."
      ],
      "metadata": {
        "id": "DIXWS7o0Qfyu"
      }
    },
    {
      "cell_type": "code",
      "source": [
        "#decomposition for trend ,seasonality and residual\n",
        "d_trend_neg=decomposition.trend\n",
        "d_seasonal_neg=decomposition.seasonal\n",
        "d_residual_neg=decomposition.resid"
      ],
      "metadata": {
        "id": "i2FzYvO2SZZI"
      },
      "execution_count": 180,
      "outputs": []
    },
    {
      "cell_type": "code",
      "source": [
        "#plotting correlogram for positive sentiment data\n",
        "fig,ax=plt.subplots(1,2,figsize=(15,7))\n",
        "plot_acf(Negative,lags=10,ax=ax[1])\n",
        "plot_pacf(Negative,lags=10,ax=ax[0])\n",
        "plt.show()"
      ],
      "metadata": {
        "colab": {
          "base_uri": "https://localhost:8080/",
          "height": 447
        },
        "id": "Dtaec6e2Rtma",
        "outputId": "460e4db8-2c33-4d07-f71c-58224eaef458"
      },
      "execution_count": 178,
      "outputs": [
        {
          "output_type": "display_data",
          "data": {
            "text/plain": [
              "<Figure size 1080x504 with 2 Axes>"
            ],
            "image/png": "[encoded data removed]"
          },
          "metadata": {}
        }
      ]
    },
    {
      "cell_type": "markdown",
      "source": [
        "Neutral sentiment data p,d,q values\n",
        "\n",
        "* p=[0,1,2]\n",
        "* d=0\n",
        "* q=[0,1,2]"
      ],
      "metadata": {
        "id": "vsjDxxnlR9W2"
      }
    },
    {
      "cell_type": "code",
      "source": [
        "checkStationarity(d_seasonal_neg)"
      ],
      "metadata": {
        "colab": {
          "base_uri": "https://localhost:8080/",
          "height": 35
        },
        "id": "IHsgh5PtRtfB",
        "outputId": "bfc0bd97-5b22-4da9-f61c-168618642ba5"
      },
      "execution_count": 181,
      "outputs": [
        {
          "output_type": "execute_result",
          "data": {
            "text/plain": [
              "'Data is Stationary. Proceed to model building'"
            ],
            "application/vnd.google.colaboratory.intrinsic+json": {
              "type": "string"
            }
          },
          "metadata": {},
          "execution_count": 181
        }
      ]
    },
    {
      "cell_type": "markdown",
      "source": [
        "As there is seasonality in data we go for SARIMAX model so will find P,D,Q values."
      ],
      "metadata": {
        "id": "qEv4gBdLSh5p"
      }
    },
    {
      "cell_type": "code",
      "source": [
        "#plotting correlogram for seasonality\n",
        "fig,ax=plt.subplots(1,2,figsize=(15,7))\n",
        "plot_acf(d_seasonal_neg,lags=10,ax=ax[1])\n",
        "plot_pacf(d_seasonal_neg,lags=10,ax=ax[0])\n",
        "plt.show()"
      ],
      "metadata": {
        "colab": {
          "base_uri": "https://localhost:8080/",
          "height": 447
        },
        "id": "dbA2FGJ2RtV7",
        "outputId": "c8cdaecb-dae2-40fa-cf48-bbb0210e1d03"
      },
      "execution_count": 183,
      "outputs": [
        {
          "output_type": "display_data",
          "data": {
            "text/plain": [
              "<Figure size 1080x504 with 2 Axes>"
            ],
            "image/png": "[encoded data removed]"
          },
          "metadata": {}
        }
      ]
    },
    {
      "cell_type": "markdown",
      "source": [
        "Neutral sentiment data P,D,Q values\n",
        "* P=[0,1]\n",
        "* D=0\n",
        "* Q=[0,1,2,3]"
      ],
      "metadata": {
        "id": "8_TUW43aSs2Q"
      }
    },
    {
      "cell_type": "code",
      "source": [
        "# Splitting the data into train and test by row indexing\n",
        "ss=int(len(Negative)*0.70)\n",
        "train_pos=Negative[:ss]\n",
        "test_pos=Negative[ss:]"
      ],
      "metadata": {
        "id": "8rq7MpiZS70X"
      },
      "execution_count": 184,
      "outputs": []
    },
    {
      "cell_type": "markdown",
      "source": [
        "* p=[0,1,2]\n",
        "* d=0\n",
        "* q=[0,1,2]\n",
        "* P=[0,1]\n",
        "* D=0\n",
        "* Q=[0,1,2,3]"
      ],
      "metadata": {
        "id": "QQa3Xq9dTFTd"
      }
    },
    {
      "cell_type": "code",
      "source": [
        "p=[]\n",
        "q=[]\n",
        "P=[]\n",
        "Q=[]\n",
        "aic=[]\n",
        "for i in range(3):\n",
        "  for j in range(3):\n",
        "    for k in range(2):\n",
        "      for l in range(4):\n",
        "        sarima_neg=SARIMAX(Positive,order=(i,0,j),seasonal_order=(k,0,l,4),enforce_stationarity=False).fit()\n",
        "        p.append(i)\n",
        "        q.append(j)\n",
        "        P.append(k)\n",
        "        Q.append(l)\n",
        "        aic.append(sarima_neg.aic)"
      ],
      "metadata": {
        "id": "WzuCdsTPSsEh"
      },
      "execution_count": 185,
      "outputs": []
    },
    {
      "cell_type": "code",
      "source": [
        "df=pd.DataFrame({\"p\":p,\"q\":q,\"P\":P,\"Q\":Q,\"AIC\":aic})\n",
        "df.sort_values(by='AIC',ascending=True).head()"
      ],
      "metadata": {
        "colab": {
          "base_uri": "https://localhost:8080/",
          "height": 206
        },
        "id": "XmTWwN8DSr8h",
        "outputId": "2dff4008-c308-467b-fc69-b66d85462974"
      },
      "execution_count": 186,
      "outputs": [
        {
          "output_type": "execute_result",
          "data": {
            "text/plain": [
              "    p  q  P  Q         AIC\n",
              "43  1  2  0  3  158.105365\n",
              "47  1  2  1  3  159.536617\n",
              "67  2  2  0  3  160.047145\n",
              "23  0  2  1  3  161.151511\n",
              "19  0  2  0  3  161.399094"
            ],
            "text/html": [
              "\n",
              "  <div id=\"df-c60106e4-a559-4d65-855a-143ffd30ac63\">\n",
              "    <div class=\"colab-df-container\">\n",
              "      <div>\n",
              "<style scoped>\n",
              "    .dataframe tbody tr th:only-of-type {\n",
              "        vertical-align: middle;\n",
              "    }\n",
              "\n",
              "    .dataframe tbody tr th {\n",
              "        vertical-align: top;\n",
              "    }\n",
              "\n",
              "    .dataframe thead th {\n",
              "        text-align: right;\n",
              "    }\n",
              "</style>\n",
              "<table border=\"1\" class=\"dataframe\">\n",
              "  <thead>\n",
              "    <tr style=\"text-align: right;\">\n",
              "      <th></th>\n",
              "      <th>p</th>\n",
              "      <th>q</th>\n",
              "      <th>P</th>\n",
              "      <th>Q</th>\n",
              "      <th>AIC</th>\n",
              "    </tr>\n",
              "  </thead>\n",
              "  <tbody>\n",
              "    <tr>\n",
              "      <th>43</th>\n",
              "      <td>1</td>\n",
              "      <td>2</td>\n",
              "      <td>0</td>\n",
              "      <td>3</td>\n",
              "      <td>158.105365</td>\n",
              "    </tr>\n",
              "    <tr>\n",
              "      <th>47</th>\n",
              "      <td>1</td>\n",
              "      <td>2</td>\n",
              "      <td>1</td>\n",
              "      <td>3</td>\n",
              "      <td>159.536617</td>\n",
              "    </tr>\n",
              "    <tr>\n",
              "      <th>67</th>\n",
              "      <td>2</td>\n",
              "      <td>2</td>\n",
              "      <td>0</td>\n",
              "      <td>3</td>\n",
              "      <td>160.047145</td>\n",
              "    </tr>\n",
              "    <tr>\n",
              "      <th>23</th>\n",
              "      <td>0</td>\n",
              "      <td>2</td>\n",
              "      <td>1</td>\n",
              "      <td>3</td>\n",
              "      <td>161.151511</td>\n",
              "    </tr>\n",
              "    <tr>\n",
              "      <th>19</th>\n",
              "      <td>0</td>\n",
              "      <td>2</td>\n",
              "      <td>0</td>\n",
              "      <td>3</td>\n",
              "      <td>161.399094</td>\n",
              "    </tr>\n",
              "  </tbody>\n",
              "</table>\n",
              "</div>\n",
              "      <button class=\"colab-df-convert\" onclick=\"convertToInteractive('df-c60106e4-a559-4d65-855a-143ffd30ac63')\"\n",
              "              title=\"Convert this dataframe to an interactive table.\"\n",
              "              style=\"display:none;\">\n",
              "        \n",
              "  <svg xmlns=\"http://www.w3.org/2000/svg\" height=\"24px\"viewBox=\"0 0 24 24\"\n",
              "       width=\"24px\">\n",
              "    <path d=\"M0 0h24v24H0V0z\" fill=\"none\"/>\n",
              "    <path d=\"M18.56 5.44l.94 2.06.94-2.06 2.06-.94-2.06-.94-.94-2.06-.94 2.06-2.06.94zm-11 1L8.5 8.5l.94-2.06 2.06-.94-2.06-.94L8.5 2.5l-.94 2.06-2.06.94zm10 10l.94 2.06.94-2.06 2.06-.94-2.06-.94-.94-2.06-.94 2.06-2.06.94z\"/><path d=\"M17.41 7.96l-1.37-1.37c-.4-.4-.92-.59-1.43-.59-.52 0-1.04.2-1.43.59L10.3 9.45l-7.72 7.72c-.78.78-.78 2.05 0 2.83L4 21.41c.39.39.9.59 1.41.59.51 0 1.02-.2 1.41-.59l7.78-7.78 2.81-2.81c.8-.78.8-2.07 0-2.86zM5.41 20L4 18.59l7.72-7.72 1.47 1.35L5.41 20z\"/>\n",
              "  </svg>\n",
              "      </button>\n",
              "      \n",
              "  <style>\n",
              "    .colab-df-container {\n",
              "      display:flex;\n",
              "      flex-wrap:wrap;\n",
              "      gap: 12px;\n",
              "    }\n",
              "\n",
              "    .colab-df-convert {\n",
              "      background-color: #E8F0FE;\n",
              "      border: none;\n",
              "      border-radius: 50%;\n",
              "      cursor: pointer;\n",
              "      display: none;\n",
              "      fill: #1967D2;\n",
              "      height: 32px;\n",
              "      padding: 0 0 0 0;\n",
              "      width: 32px;\n",
              "    }\n",
              "\n",
              "    .colab-df-convert:hover {\n",
              "      background-color: #E2EBFA;\n",
              "      box-shadow: 0px 1px 2px rgba(60, 64, 67, 0.3), 0px 1px 3px 1px rgba(60, 64, 67, 0.15);\n",
              "      fill: #174EA6;\n",
              "    }\n",
              "\n",
              "    [theme=dark] .colab-df-convert {\n",
              "      background-color: #3B4455;\n",
              "      fill: #D2E3FC;\n",
              "    }\n",
              "\n",
              "    [theme=dark] .colab-df-convert:hover {\n",
              "      background-color: #434B5C;\n",
              "      box-shadow: 0px 1px 3px 1px rgba(0, 0, 0, 0.15);\n",
              "      filter: drop-shadow(0px 1px 2px rgba(0, 0, 0, 0.3));\n",
              "      fill: #FFFFFF;\n",
              "    }\n",
              "  </style>\n",
              "\n",
              "      <script>\n",
              "        const buttonEl =\n",
              "          document.querySelector('#df-c60106e4-a559-4d65-855a-143ffd30ac63 button.colab-df-convert');\n",
              "        buttonEl.style.display =\n",
              "          google.colab.kernel.accessAllowed ? 'block' : 'none';\n",
              "\n",
              "        async function convertToInteractive(key) {\n",
              "          const element = document.querySelector('#df-c60106e4-a559-4d65-855a-143ffd30ac63');\n",
              "          const dataTable =\n",
              "            await google.colab.kernel.invokeFunction('convertToInteractive',\n",
              "                                                     [key], {});\n",
              "          if (!dataTable) return;\n",
              "\n",
              "          const docLinkHtml = 'Like what you see? Visit the ' +\n",
              "            '<a target=\"_blank\" href=https://colab.research.google.com/notebooks/data_table.ipynb>data table notebook</a>'\n",
              "            + ' to learn more about interactive tables.';\n",
              "          element.innerHTML = '';\n",
              "          dataTable['output_type'] = 'display_data';\n",
              "          await google.colab.output.renderOutput(dataTable, element);\n",
              "          const docLink = document.createElement('div');\n",
              "          docLink.innerHTML = docLinkHtml;\n",
              "          element.appendChild(docLink);\n",
              "        }\n",
              "      </script>\n",
              "    </div>\n",
              "  </div>\n",
              "  "
            ]
          },
          "metadata": {},
          "execution_count": 186
        }
      ]
    },
    {
      "cell_type": "code",
      "source": [
        "# Time Series Analysis plot for Actual,Predicted and Forecast \n",
        "TSAplots(data=Negative,train=train_neg,p=1,d=0,q=2,P=0,Q=3,D=0,title=\"Trend of Negative Sentiment Count Prime Pantry\")"
      ],
      "metadata": {
        "colab": {
          "base_uri": "https://localhost:8080/",
          "height": 519
        },
        "id": "GPo16hXrRtMC",
        "outputId": "3398ad97-81e6-49c0-ff1b-23098c4d769a"
      },
      "execution_count": 187,
      "outputs": [
        {
          "output_type": "display_data",
          "data": {
            "text/plain": [
              "<Figure size 864x576 with 1 Axes>"
            ],
            "image/png": "[encoded data removed]"
          },
          "metadata": {}
        }
      ]
    },
    {
      "cell_type": "markdown",
      "source": [
        "From the plot we can say that the neagtive sentiments of customers will decrease till 2020 and after that it will slightly increase,as per shopping habits of people."
      ],
      "metadata": {
        "id": "adigOYRwbIek"
      }
    },
    {
      "cell_type": "code",
      "source": [
        "#perform Ljung-box test\n",
        "pvalue = sm.stats.acorr_ljungbox(m2_pos.resid,lags=[1],return_df=True)['lb_pvalue'].values\n",
        "if pvalue < 0.05:\n",
        "    print(\"Reject H0. Bad model\")\n",
        "else:\n",
        "    print(\"Fail-to-Reject H0. Good model\")"
      ],
      "metadata": {
        "colab": {
          "base_uri": "https://localhost:8080/"
        },
        "id": "nrYNxE4i8a1k",
        "outputId": "8fa1ada4-8c22-4f42-cd53-67be0dd5a49f"
      },
      "execution_count": 188,
      "outputs": [
        {
          "output_type": "stream",
          "name": "stdout",
          "text": [
            "Fail-to-Reject H0. Good model\n"
          ]
        }
      ]
    },
    {
      "cell_type": "code",
      "source": [
        "#Summary of SARIMAX model\n",
        "m2_pos.summary()"
      ],
      "metadata": {
        "colab": {
          "base_uri": "https://localhost:8080/",
          "height": 503
        },
        "id": "np3jmGegTkHw",
        "outputId": "c65b560a-d3a6-4ca0-da78-0b68b3083205"
      },
      "execution_count": 189,
      "outputs": [
        {
          "output_type": "execute_result",
          "data": {
            "text/plain": [
              "<class 'statsmodels.iolib.summary.Summary'>\n",
              "\"\"\"\n",
              "                                         SARIMAX Results                                         \n",
              "=================================================================================================\n",
              "Dep. Variable:                                  Negative   No. Observations:                   16\n",
              "Model:             SARIMAX(1, 0, 2)x(0, 0, [1, 2, 3], 4)   Log Likelihood                -104.577\n",
              "Date:                                   Wed, 18 Jan 2023   AIC                            223.154\n",
              "Time:                                           09:55:52   BIC                            228.562\n",
              "Sample:                                       03-31-2013   HQIC                           223.431\n",
              "                                            - 12-31-2016                                         \n",
              "Covariance Type:                                     opg                                         \n",
              "==============================================================================\n",
              "                 coef    std err          z      P>|z|      [0.025      0.975]\n",
              "------------------------------------------------------------------------------\n",
              "ar.L1          0.9830      0.047     20.984      0.000       0.891       1.075\n",
              "ma.L1         -0.3385      0.734     -0.461      0.645      -1.778       1.101\n",
              "ma.L2          0.9700      2.660      0.365      0.715      -4.244       6.184\n",
              "ma.S.L4        1.0604     18.896      0.056      0.955     -35.975      38.095\n",
              "ma.S.L8        1.2099     54.704      0.022      0.982    -106.008     108.428\n",
              "ma.S.L12       0.3558     13.317      0.027      0.979     -25.744      26.456\n",
              "sigma2      9110.5432   4.35e+05      0.021      0.983   -8.44e+05    8.62e+05\n",
              "===================================================================================\n",
              "Ljung-Box (L1) (Q):                   0.04   Jarque-Bera (JB):                 1.96\n",
              "Prob(Q):                              0.85   Prob(JB):                         0.38\n",
              "Heteroskedasticity (H):            1156.20   Skew:                             0.57\n",
              "Prob(H) (two-sided):                  0.00   Kurtosis:                         1.72\n",
              "===================================================================================\n",
              "\n",
              "Warnings:\n",
              "[1] Covariance matrix calculated using the outer product of gradients (complex-step).\n",
              "\"\"\""
            ],
            "text/html": [
              "<table class=\"simpletable\">\n",
              "<caption>SARIMAX Results</caption>\n",
              "<tr>\n",
              "  <th>Dep. Variable:</th>                 <td>Negative</td>                <th>  No. Observations:  </th>    <td>16</td>   \n",
              "</tr>\n",
              "<tr>\n",
              "  <th>Model:</th>           <td>SARIMAX(1, 0, 2)x(0, 0, [1, 2, 3], 4)</td> <th>  Log Likelihood     </th> <td>-104.577</td>\n",
              "</tr>\n",
              "<tr>\n",
              "  <th>Date:</th>                      <td>Wed, 18 Jan 2023</td>            <th>  AIC                </th>  <td>223.154</td>\n",
              "</tr>\n",
              "<tr>\n",
              "  <th>Time:</th>                          <td>09:55:52</td>                <th>  BIC                </th>  <td>228.562</td>\n",
              "</tr>\n",
              "<tr>\n",
              "  <th>Sample:</th>                       <td>03-31-2013</td>               <th>  HQIC               </th>  <td>223.431</td>\n",
              "</tr>\n",
              "<tr>\n",
              "  <th></th>                             <td>- 12-31-2016</td>              <th>                     </th>     <td> </td>   \n",
              "</tr>\n",
              "<tr>\n",
              "  <th>Covariance Type:</th>                  <td>opg</td>                  <th>                     </th>     <td> </td>   \n",
              "</tr>\n",
              "</table>\n",
              "<table class=\"simpletable\">\n",
              "<tr>\n",
              "      <td></td>        <th>coef</th>     <th>std err</th>      <th>z</th>      <th>P>|z|</th>  <th>[0.025</th>    <th>0.975]</th>  \n",
              "</tr>\n",
              "<tr>\n",
              "  <th>ar.L1</th>    <td>    0.9830</td> <td>    0.047</td> <td>   20.984</td> <td> 0.000</td> <td>    0.891</td> <td>    1.075</td>\n",
              "</tr>\n",
              "<tr>\n",
              "  <th>ma.L1</th>    <td>   -0.3385</td> <td>    0.734</td> <td>   -0.461</td> <td> 0.645</td> <td>   -1.778</td> <td>    1.101</td>\n",
              "</tr>\n",
              "<tr>\n",
              "  <th>ma.L2</th>    <td>    0.9700</td> <td>    2.660</td> <td>    0.365</td> <td> 0.715</td> <td>   -4.244</td> <td>    6.184</td>\n",
              "</tr>\n",
              "<tr>\n",
              "  <th>ma.S.L4</th>  <td>    1.0604</td> <td>   18.896</td> <td>    0.056</td> <td> 0.955</td> <td>  -35.975</td> <td>   38.095</td>\n",
              "</tr>\n",
              "<tr>\n",
              "  <th>ma.S.L8</th>  <td>    1.2099</td> <td>   54.704</td> <td>    0.022</td> <td> 0.982</td> <td> -106.008</td> <td>  108.428</td>\n",
              "</tr>\n",
              "<tr>\n",
              "  <th>ma.S.L12</th> <td>    0.3558</td> <td>   13.317</td> <td>    0.027</td> <td> 0.979</td> <td>  -25.744</td> <td>   26.456</td>\n",
              "</tr>\n",
              "<tr>\n",
              "  <th>sigma2</th>   <td> 9110.5432</td> <td> 4.35e+05</td> <td>    0.021</td> <td> 0.983</td> <td>-8.44e+05</td> <td> 8.62e+05</td>\n",
              "</tr>\n",
              "</table>\n",
              "<table class=\"simpletable\">\n",
              "<tr>\n",
              "  <th>Ljung-Box (L1) (Q):</th>      <td>0.04</td>   <th>  Jarque-Bera (JB):  </th> <td>1.96</td>\n",
              "</tr>\n",
              "<tr>\n",
              "  <th>Prob(Q):</th>                 <td>0.85</td>   <th>  Prob(JB):          </th> <td>0.38</td>\n",
              "</tr>\n",
              "<tr>\n",
              "  <th>Heteroskedasticity (H):</th> <td>1156.20</td> <th>  Skew:              </th> <td>0.57</td>\n",
              "</tr>\n",
              "<tr>\n",
              "  <th>Prob(H) (two-sided):</th>     <td>0.00</td>   <th>  Kurtosis:          </th> <td>1.72</td>\n",
              "</tr>\n",
              "</table><br/><br/>Warnings:<br/>[1] Covariance matrix calculated using the outer product of gradients (complex-step)."
            ]
          },
          "metadata": {},
          "execution_count": 189
        }
      ]
    },
    {
      "cell_type": "code",
      "source": [],
      "metadata": {
        "id": "uDWPG9c_UC4I"
      },
      "execution_count": null,
      "outputs": []
    },
    {
      "cell_type": "code",
      "source": [
        "#For customer retention and churn out counting frequenc of purchase\n",
        "purchase_1st=pantry_bkp.groupby('reviewerID')[['Date']].min().reset_index()\n",
        "\n",
        "purchase_2nd=pantry_bkp.groupby('reviewerID')[['Date']].max().reset_index()"
      ],
      "metadata": {
        "id": "youK8V_PUCt9"
      },
      "execution_count": 190,
      "outputs": []
    },
    {
      "cell_type": "code",
      "source": [
        "#Count of reviewerID will give total number of times the person do shopping\n",
        "frequency=pantry_bkp.groupby(['reviewerID','reviewerName','Analysis'])['reviewerID'].count()\n",
        "frequency=pd.DataFrame(frequency)\n",
        "frequency"
      ],
      "metadata": {
        "colab": {
          "base_uri": "https://localhost:8080/",
          "height": 455
        },
        "id": "0_GERkGmTm4J",
        "outputId": "4672278d-f103-4f41-e36d-c311359a1a66"
      },
      "execution_count": 222,
      "outputs": [
        {
          "output_type": "execute_result",
          "data": {
            "text/plain": [
              "                                               reviewerID\n",
              "reviewerID           reviewerName    Analysis            \n",
              "A0526222H977CBZM4DK7 JAIME SCARPITTA Negative           1\n",
              "                                     Positive           4\n",
              "A09677047K94TJDE6FN3 Amazon Customer Negative           1\n",
              "                                     Neutral            2\n",
              "                                     Positive           3\n",
              "...                                                   ...\n",
              "AZZT1ERHBSNQ8        jbird           Negative           1\n",
              "                                     Neutral            2\n",
              "                                     Positive           2\n",
              "AZZTYBMA9JHTC        Leslie          Negative           4\n",
              "                                     Positive           1\n",
              "\n",
              "[32884 rows x 1 columns]"
            ],
            "text/html": [
              "\n",
              "  <div id=\"df-828fd3fe-589b-4cfe-85de-4e2bab2d6c41\">\n",
              "    <div class=\"colab-df-container\">\n",
              "      <div>\n",
              "<style scoped>\n",
              "    .dataframe tbody tr th:only-of-type {\n",
              "        vertical-align: middle;\n",
              "    }\n",
              "\n",
              "    .dataframe tbody tr th {\n",
              "        vertical-align: top;\n",
              "    }\n",
              "\n",
              "    .dataframe thead th {\n",
              "        text-align: right;\n",
              "    }\n",
              "</style>\n",
              "<table border=\"1\" class=\"dataframe\">\n",
              "  <thead>\n",
              "    <tr style=\"text-align: right;\">\n",
              "      <th></th>\n",
              "      <th></th>\n",
              "      <th></th>\n",
              "      <th>reviewerID</th>\n",
              "    </tr>\n",
              "    <tr>\n",
              "      <th>reviewerID</th>\n",
              "      <th>reviewerName</th>\n",
              "      <th>Analysis</th>\n",
              "      <th></th>\n",
              "    </tr>\n",
              "  </thead>\n",
              "  <tbody>\n",
              "    <tr>\n",
              "      <th rowspan=\"2\" valign=\"top\">A0526222H977CBZM4DK7</th>\n",
              "      <th rowspan=\"2\" valign=\"top\">JAIME SCARPITTA</th>\n",
              "      <th>Negative</th>\n",
              "      <td>1</td>\n",
              "    </tr>\n",
              "    <tr>\n",
              "      <th>Positive</th>\n",
              "      <td>4</td>\n",
              "    </tr>\n",
              "    <tr>\n",
              "      <th rowspan=\"3\" valign=\"top\">A09677047K94TJDE6FN3</th>\n",
              "      <th rowspan=\"3\" valign=\"top\">Amazon Customer</th>\n",
              "      <th>Negative</th>\n",
              "      <td>1</td>\n",
              "    </tr>\n",
              "    <tr>\n",
              "      <th>Neutral</th>\n",
              "      <td>2</td>\n",
              "    </tr>\n",
              "    <tr>\n",
              "      <th>Positive</th>\n",
              "      <td>3</td>\n",
              "    </tr>\n",
              "    <tr>\n",
              "      <th>...</th>\n",
              "      <th>...</th>\n",
              "      <th>...</th>\n",
              "      <td>...</td>\n",
              "    </tr>\n",
              "    <tr>\n",
              "      <th rowspan=\"3\" valign=\"top\">AZZT1ERHBSNQ8</th>\n",
              "      <th rowspan=\"3\" valign=\"top\">jbird</th>\n",
              "      <th>Negative</th>\n",
              "      <td>1</td>\n",
              "    </tr>\n",
              "    <tr>\n",
              "      <th>Neutral</th>\n",
              "      <td>2</td>\n",
              "    </tr>\n",
              "    <tr>\n",
              "      <th>Positive</th>\n",
              "      <td>2</td>\n",
              "    </tr>\n",
              "    <tr>\n",
              "      <th rowspan=\"2\" valign=\"top\">AZZTYBMA9JHTC</th>\n",
              "      <th rowspan=\"2\" valign=\"top\">Leslie</th>\n",
              "      <th>Negative</th>\n",
              "      <td>4</td>\n",
              "    </tr>\n",
              "    <tr>\n",
              "      <th>Positive</th>\n",
              "      <td>1</td>\n",
              "    </tr>\n",
              "  </tbody>\n",
              "</table>\n",
              "<p>32884 rows × 1 columns</p>\n",
              "</div>\n",
              "      <button class=\"colab-df-convert\" onclick=\"convertToInteractive('df-828fd3fe-589b-4cfe-85de-4e2bab2d6c41')\"\n",
              "              title=\"Convert this dataframe to an interactive table.\"\n",
              "              style=\"display:none;\">\n",
              "        \n",
              "  <svg xmlns=\"http://www.w3.org/2000/svg\" height=\"24px\"viewBox=\"0 0 24 24\"\n",
              "       width=\"24px\">\n",
              "    <path d=\"M0 0h24v24H0V0z\" fill=\"none\"/>\n",
              "    <path d=\"M18.56 5.44l.94 2.06.94-2.06 2.06-.94-2.06-.94-.94-2.06-.94 2.06-2.06.94zm-11 1L8.5 8.5l.94-2.06 2.06-.94-2.06-.94L8.5 2.5l-.94 2.06-2.06.94zm10 10l.94 2.06.94-2.06 2.06-.94-2.06-.94-.94-2.06-.94 2.06-2.06.94z\"/><path d=\"M17.41 7.96l-1.37-1.37c-.4-.4-.92-.59-1.43-.59-.52 0-1.04.2-1.43.59L10.3 9.45l-7.72 7.72c-.78.78-.78 2.05 0 2.83L4 21.41c.39.39.9.59 1.41.59.51 0 1.02-.2 1.41-.59l7.78-7.78 2.81-2.81c.8-.78.8-2.07 0-2.86zM5.41 20L4 18.59l7.72-7.72 1.47 1.35L5.41 20z\"/>\n",
              "  </svg>\n",
              "      </button>\n",
              "      \n",
              "  <style>\n",
              "    .colab-df-container {\n",
              "      display:flex;\n",
              "      flex-wrap:wrap;\n",
              "      gap: 12px;\n",
              "    }\n",
              "\n",
              "    .colab-df-convert {\n",
              "      background-color: #E8F0FE;\n",
              "      border: none;\n",
              "      border-radius: 50%;\n",
              "      cursor: pointer;\n",
              "      display: none;\n",
              "      fill: #1967D2;\n",
              "      height: 32px;\n",
              "      padding: 0 0 0 0;\n",
              "      width: 32px;\n",
              "    }\n",
              "\n",
              "    .colab-df-convert:hover {\n",
              "      background-color: #E2EBFA;\n",
              "      box-shadow: 0px 1px 2px rgba(60, 64, 67, 0.3), 0px 1px 3px 1px rgba(60, 64, 67, 0.15);\n",
              "      fill: #174EA6;\n",
              "    }\n",
              "\n",
              "    [theme=dark] .colab-df-convert {\n",
              "      background-color: #3B4455;\n",
              "      fill: #D2E3FC;\n",
              "    }\n",
              "\n",
              "    [theme=dark] .colab-df-convert:hover {\n",
              "      background-color: #434B5C;\n",
              "      box-shadow: 0px 1px 3px 1px rgba(0, 0, 0, 0.15);\n",
              "      filter: drop-shadow(0px 1px 2px rgba(0, 0, 0, 0.3));\n",
              "      fill: #FFFFFF;\n",
              "    }\n",
              "  </style>\n",
              "\n",
              "      <script>\n",
              "        const buttonEl =\n",
              "          document.querySelector('#df-828fd3fe-589b-4cfe-85de-4e2bab2d6c41 button.colab-df-convert');\n",
              "        buttonEl.style.display =\n",
              "          google.colab.kernel.accessAllowed ? 'block' : 'none';\n",
              "\n",
              "        async function convertToInteractive(key) {\n",
              "          const element = document.querySelector('#df-828fd3fe-589b-4cfe-85de-4e2bab2d6c41');\n",
              "          const dataTable =\n",
              "            await google.colab.kernel.invokeFunction('convertToInteractive',\n",
              "                                                     [key], {});\n",
              "          if (!dataTable) return;\n",
              "\n",
              "          const docLinkHtml = 'Like what you see? Visit the ' +\n",
              "            '<a target=\"_blank\" href=https://colab.research.google.com/notebooks/data_table.ipynb>data table notebook</a>'\n",
              "            + ' to learn more about interactive tables.';\n",
              "          element.innerHTML = '';\n",
              "          dataTable['output_type'] = 'display_data';\n",
              "          await google.colab.output.renderOutput(dataTable, element);\n",
              "          const docLink = document.createElement('div');\n",
              "          docLink.innerHTML = docLinkHtml;\n",
              "          element.appendChild(docLink);\n",
              "        }\n",
              "      </script>\n",
              "    </div>\n",
              "  </div>\n",
              "  "
            ]
          },
          "metadata": {},
          "execution_count": 222
        }
      ]
    },
    {
      "cell_type": "code",
      "source": [
        "#Renaming reviewerID as count of shopping\n",
        "frequency.rename(columns={'reviewerID':'Count_shopping'},inplace=True)\n",
        "frequency.reset_index(inplace=True)"
      ],
      "metadata": {
        "id": "VIlM2G_yUY9g"
      },
      "execution_count": 226,
      "outputs": []
    },
    {
      "cell_type": "code",
      "source": [
        "frequency_shop=pd.merge(purchase_1st,purchase_2nd,on=['reviewerID'])\n",
        "frequency_shop=pd.merge(frequency_shop,frequency,on=['reviewerID'])"
      ],
      "metadata": {
        "id": "iMp_MELaVB6X"
      },
      "execution_count": 227,
      "outputs": []
    },
    {
      "cell_type": "code",
      "source": [
        "#Taking difference of the person shopping 1st time to last time to get how frequent he/she buys product\n",
        "frequency_shop['Differnce']=frequency_shop['Date_y']-frequency_shop['Date_x']\n",
        "frequency_shop"
      ],
      "metadata": {
        "colab": {
          "base_uri": "https://localhost:8080/",
          "height": 424
        },
        "id": "kJfBBxV5Ub35",
        "outputId": "ea164860-3fd7-4416-f70a-782798c73dc8"
      },
      "execution_count": 228,
      "outputs": [
        {
          "output_type": "execute_result",
          "data": {
            "text/plain": [
              "                 reviewerID     Date_x     Date_y     reviewerName  Analysis  \\\n",
              "0      A0526222H977CBZM4DK7 2016-10-16 2017-04-26  JAIME SCARPITTA  Negative   \n",
              "1      A0526222H977CBZM4DK7 2016-10-16 2017-04-26  JAIME SCARPITTA  Positive   \n",
              "2      A09677047K94TJDE6FN3 2018-04-03 2018-04-03  Amazon Customer  Negative   \n",
              "3      A09677047K94TJDE6FN3 2018-04-03 2018-04-03  Amazon Customer   Neutral   \n",
              "4      A09677047K94TJDE6FN3 2018-04-03 2018-04-03  Amazon Customer  Positive   \n",
              "...                     ...        ...        ...              ...       ...   \n",
              "32879         AZZT1ERHBSNQ8 2016-12-10 2017-07-22            jbird  Negative   \n",
              "32880         AZZT1ERHBSNQ8 2016-12-10 2017-07-22            jbird   Neutral   \n",
              "32881         AZZT1ERHBSNQ8 2016-12-10 2017-07-22            jbird  Positive   \n",
              "32882         AZZTYBMA9JHTC 2016-10-01 2016-10-01           Leslie  Negative   \n",
              "32883         AZZTYBMA9JHTC 2016-10-01 2016-10-01           Leslie  Positive   \n",
              "\n",
              "       Count_shopping Differnce  \n",
              "0                   1  192 days  \n",
              "1                   4  192 days  \n",
              "2                   1    0 days  \n",
              "3                   2    0 days  \n",
              "4                   3    0 days  \n",
              "...               ...       ...  \n",
              "32879               1  224 days  \n",
              "32880               2  224 days  \n",
              "32881               2  224 days  \n",
              "32882               4    0 days  \n",
              "32883               1    0 days  \n",
              "\n",
              "[32884 rows x 7 columns]"
            ],
            "text/html": [
              "\n",
              "  <div id=\"df-100dd66d-0412-4f32-b052-b0ae80f32079\">\n",
              "    <div class=\"colab-df-container\">\n",
              "      <div>\n",
              "<style scoped>\n",
              "    .dataframe tbody tr th:only-of-type {\n",
              "        vertical-align: middle;\n",
              "    }\n",
              "\n",
              "    .dataframe tbody tr th {\n",
              "        vertical-align: top;\n",
              "    }\n",
              "\n",
              "    .dataframe thead th {\n",
              "        text-align: right;\n",
              "    }\n",
              "</style>\n",
              "<table border=\"1\" class=\"dataframe\">\n",
              "  <thead>\n",
              "    <tr style=\"text-align: right;\">\n",
              "      <th></th>\n",
              "      <th>reviewerID</th>\n",
              "      <th>Date_x</th>\n",
              "      <th>Date_y</th>\n",
              "      <th>reviewerName</th>\n",
              "      <th>Analysis</th>\n",
              "      <th>Count_shopping</th>\n",
              "      <th>Differnce</th>\n",
              "    </tr>\n",
              "  </thead>\n",
              "  <tbody>\n",
              "    <tr>\n",
              "      <th>0</th>\n",
              "      <td>A0526222H977CBZM4DK7</td>\n",
              "      <td>2016-10-16</td>\n",
              "      <td>2017-04-26</td>\n",
              "      <td>JAIME SCARPITTA</td>\n",
              "      <td>Negative</td>\n",
              "      <td>1</td>\n",
              "      <td>192 days</td>\n",
              "    </tr>\n",
              "    <tr>\n",
              "      <th>1</th>\n",
              "      <td>A0526222H977CBZM4DK7</td>\n",
              "      <td>2016-10-16</td>\n",
              "      <td>2017-04-26</td>\n",
              "      <td>JAIME SCARPITTA</td>\n",
              "      <td>Positive</td>\n",
              "      <td>4</td>\n",
              "      <td>192 days</td>\n",
              "    </tr>\n",
              "    <tr>\n",
              "      <th>2</th>\n",
              "      <td>A09677047K94TJDE6FN3</td>\n",
              "      <td>2018-04-03</td>\n",
              "      <td>2018-04-03</td>\n",
              "      <td>Amazon Customer</td>\n",
              "      <td>Negative</td>\n",
              "      <td>1</td>\n",
              "      <td>0 days</td>\n",
              "    </tr>\n",
              "    <tr>\n",
              "      <th>3</th>\n",
              "      <td>A09677047K94TJDE6FN3</td>\n",
              "      <td>2018-04-03</td>\n",
              "      <td>2018-04-03</td>\n",
              "      <td>Amazon Customer</td>\n",
              "      <td>Neutral</td>\n",
              "      <td>2</td>\n",
              "      <td>0 days</td>\n",
              "    </tr>\n",
              "    <tr>\n",
              "      <th>4</th>\n",
              "      <td>A09677047K94TJDE6FN3</td>\n",
              "      <td>2018-04-03</td>\n",
              "      <td>2018-04-03</td>\n",
              "      <td>Amazon Customer</td>\n",
              "      <td>Positive</td>\n",
              "      <td>3</td>\n",
              "      <td>0 days</td>\n",
              "    </tr>\n",
              "    <tr>\n",
              "      <th>...</th>\n",
              "      <td>...</td>\n",
              "      <td>...</td>\n",
              "      <td>...</td>\n",
              "      <td>...</td>\n",
              "      <td>...</td>\n",
              "      <td>...</td>\n",
              "      <td>...</td>\n",
              "    </tr>\n",
              "    <tr>\n",
              "      <th>32879</th>\n",
              "      <td>AZZT1ERHBSNQ8</td>\n",
              "      <td>2016-12-10</td>\n",
              "      <td>2017-07-22</td>\n",
              "      <td>jbird</td>\n",
              "      <td>Negative</td>\n",
              "      <td>1</td>\n",
              "      <td>224 days</td>\n",
              "    </tr>\n",
              "    <tr>\n",
              "      <th>32880</th>\n",
              "      <td>AZZT1ERHBSNQ8</td>\n",
              "      <td>2016-12-10</td>\n",
              "      <td>2017-07-22</td>\n",
              "      <td>jbird</td>\n",
              "      <td>Neutral</td>\n",
              "      <td>2</td>\n",
              "      <td>224 days</td>\n",
              "    </tr>\n",
              "    <tr>\n",
              "      <th>32881</th>\n",
              "      <td>AZZT1ERHBSNQ8</td>\n",
              "      <td>2016-12-10</td>\n",
              "      <td>2017-07-22</td>\n",
              "      <td>jbird</td>\n",
              "      <td>Positive</td>\n",
              "      <td>2</td>\n",
              "      <td>224 days</td>\n",
              "    </tr>\n",
              "    <tr>\n",
              "      <th>32882</th>\n",
              "      <td>AZZTYBMA9JHTC</td>\n",
              "      <td>2016-10-01</td>\n",
              "      <td>2016-10-01</td>\n",
              "      <td>Leslie</td>\n",
              "      <td>Negative</td>\n",
              "      <td>4</td>\n",
              "      <td>0 days</td>\n",
              "    </tr>\n",
              "    <tr>\n",
              "      <th>32883</th>\n",
              "      <td>AZZTYBMA9JHTC</td>\n",
              "      <td>2016-10-01</td>\n",
              "      <td>2016-10-01</td>\n",
              "      <td>Leslie</td>\n",
              "      <td>Positive</td>\n",
              "      <td>1</td>\n",
              "      <td>0 days</td>\n",
              "    </tr>\n",
              "  </tbody>\n",
              "</table>\n",
              "<p>32884 rows × 7 columns</p>\n",
              "</div>\n",
              "      <button class=\"colab-df-convert\" onclick=\"convertToInteractive('df-100dd66d-0412-4f32-b052-b0ae80f32079')\"\n",
              "              title=\"Convert this dataframe to an interactive table.\"\n",
              "              style=\"display:none;\">\n",
              "        \n",
              "  <svg xmlns=\"http://www.w3.org/2000/svg\" height=\"24px\"viewBox=\"0 0 24 24\"\n",
              "       width=\"24px\">\n",
              "    <path d=\"M0 0h24v24H0V0z\" fill=\"none\"/>\n",
              "    <path d=\"M18.56 5.44l.94 2.06.94-2.06 2.06-.94-2.06-.94-.94-2.06-.94 2.06-2.06.94zm-11 1L8.5 8.5l.94-2.06 2.06-.94-2.06-.94L8.5 2.5l-.94 2.06-2.06.94zm10 10l.94 2.06.94-2.06 2.06-.94-2.06-.94-.94-2.06-.94 2.06-2.06.94z\"/><path d=\"M17.41 7.96l-1.37-1.37c-.4-.4-.92-.59-1.43-.59-.52 0-1.04.2-1.43.59L10.3 9.45l-7.72 7.72c-.78.78-.78 2.05 0 2.83L4 21.41c.39.39.9.59 1.41.59.51 0 1.02-.2 1.41-.59l7.78-7.78 2.81-2.81c.8-.78.8-2.07 0-2.86zM5.41 20L4 18.59l7.72-7.72 1.47 1.35L5.41 20z\"/>\n",
              "  </svg>\n",
              "      </button>\n",
              "      \n",
              "  <style>\n",
              "    .colab-df-container {\n",
              "      display:flex;\n",
              "      flex-wrap:wrap;\n",
              "      gap: 12px;\n",
              "    }\n",
              "\n",
              "    .colab-df-convert {\n",
              "      background-color: #E8F0FE;\n",
              "      border: none;\n",
              "      border-radius: 50%;\n",
              "      cursor: pointer;\n",
              "      display: none;\n",
              "      fill: #1967D2;\n",
              "      height: 32px;\n",
              "      padding: 0 0 0 0;\n",
              "      width: 32px;\n",
              "    }\n",
              "\n",
              "    .colab-df-convert:hover {\n",
              "      background-color: #E2EBFA;\n",
              "      box-shadow: 0px 1px 2px rgba(60, 64, 67, 0.3), 0px 1px 3px 1px rgba(60, 64, 67, 0.15);\n",
              "      fill: #174EA6;\n",
              "    }\n",
              "\n",
              "    [theme=dark] .colab-df-convert {\n",
              "      background-color: #3B4455;\n",
              "      fill: #D2E3FC;\n",
              "    }\n",
              "\n",
              "    [theme=dark] .colab-df-convert:hover {\n",
              "      background-color: #434B5C;\n",
              "      box-shadow: 0px 1px 3px 1px rgba(0, 0, 0, 0.15);\n",
              "      filter: drop-shadow(0px 1px 2px rgba(0, 0, 0, 0.3));\n",
              "      fill: #FFFFFF;\n",
              "    }\n",
              "  </style>\n",
              "\n",
              "      <script>\n",
              "        const buttonEl =\n",
              "          document.querySelector('#df-100dd66d-0412-4f32-b052-b0ae80f32079 button.colab-df-convert');\n",
              "        buttonEl.style.display =\n",
              "          google.colab.kernel.accessAllowed ? 'block' : 'none';\n",
              "\n",
              "        async function convertToInteractive(key) {\n",
              "          const element = document.querySelector('#df-100dd66d-0412-4f32-b052-b0ae80f32079');\n",
              "          const dataTable =\n",
              "            await google.colab.kernel.invokeFunction('convertToInteractive',\n",
              "                                                     [key], {});\n",
              "          if (!dataTable) return;\n",
              "\n",
              "          const docLinkHtml = 'Like what you see? Visit the ' +\n",
              "            '<a target=\"_blank\" href=https://colab.research.google.com/notebooks/data_table.ipynb>data table notebook</a>'\n",
              "            + ' to learn more about interactive tables.';\n",
              "          element.innerHTML = '';\n",
              "          dataTable['output_type'] = 'display_data';\n",
              "          await google.colab.output.renderOutput(dataTable, element);\n",
              "          const docLink = document.createElement('div');\n",
              "          docLink.innerHTML = docLinkHtml;\n",
              "          element.appendChild(docLink);\n",
              "        }\n",
              "      </script>\n",
              "    </div>\n",
              "  </div>\n",
              "  "
            ]
          },
          "metadata": {},
          "execution_count": 228
        }
      ]
    },
    {
      "cell_type": "code",
      "source": [
        "#filtering the customers who have shopped atleast twice on amazon\n",
        "shop_tworm=frequency_shop[frequency_shop['Differnce']!='0 days']\n",
        "shop_tworm['freq_time']=shop_tworm['Differnce']/shop_tworm['Count_shopping']\n",
        "shop_tworm.sort_values(by='Count_shopping',ascending=False)"
      ],
      "metadata": {
        "colab": {
          "base_uri": "https://localhost:8080/",
          "height": 424
        },
        "id": "mnzhaY3vU-mu",
        "outputId": "dad60de3-47f4-4e04-c254-292bb4a04c3d"
      },
      "execution_count": 229,
      "outputs": [
        {
          "output_type": "execute_result",
          "data": {
            "text/plain": [
              "                 reviewerID     Date_x     Date_y       reviewerName  \\\n",
              "18842        A35Q0RBM3YNQNF 2015-08-18 2018-09-01            M. Hill   \n",
              "29907         ANDVNCX6JU4XW 2016-06-13 2016-07-26  SHERRY MCCAUGHTRY   \n",
              "765          A13J2PGKNMJG1K 2014-07-05 2018-03-21           LegoGirl   \n",
              "29752         AMMNGUJK4HQJ5 2014-08-27 2018-07-19              Misty   \n",
              "10362        A26K3T6L5NYO7L 2015-02-02 2018-02-18       PennyPincher   \n",
              "...                     ...        ...        ...                ...   \n",
              "27392         AD2NC12BXWG46 2015-12-25 2017-08-01        Jillian Fae   \n",
              "10294        A26CIDCRYQLUL6 2014-08-24 2017-03-05            Richard   \n",
              "10297        A26CIDCRYQLUL6 2014-08-24 2017-03-05             Rickie   \n",
              "10308        A26E1C9KL8LFPL 2016-12-09 2018-04-27             pepper   \n",
              "0      A0526222H977CBZM4DK7 2016-10-16 2017-04-26    JAIME SCARPITTA   \n",
              "\n",
              "       Analysis  Count_shopping Differnce                  freq_time  \n",
              "18842   Neutral             168 1110 days  6 days 14:34:17.142857142  \n",
              "29907  Positive             124   43 days  0 days 08:19:21.290322580  \n",
              "765     Neutral             118 1355 days 11 days 11:35:35.593220338  \n",
              "29752   Neutral             116 1422 days 12 days 06:12:24.827586206  \n",
              "10362   Neutral             111 1112 days 10 days 00:25:56.756756756  \n",
              "...         ...             ...       ...                        ...  \n",
              "27392  Positive               1  585 days          585 days 00:00:00  \n",
              "10294  Negative               1  924 days          924 days 00:00:00  \n",
              "10297   Neutral               1  924 days          924 days 00:00:00  \n",
              "10308  Negative               1  504 days          504 days 00:00:00  \n",
              "0      Negative               1  192 days          192 days 00:00:00  \n",
              "\n",
              "[24872 rows x 8 columns]"
            ],
            "text/html": [
              "\n",
              "  <div id=\"df-17e86c5c-d42e-4ae0-be4c-79af169bbf6e\">\n",
              "    <div class=\"colab-df-container\">\n",
              "      <div>\n",
              "<style scoped>\n",
              "    .dataframe tbody tr th:only-of-type {\n",
              "        vertical-align: middle;\n",
              "    }\n",
              "\n",
              "    .dataframe tbody tr th {\n",
              "        vertical-align: top;\n",
              "    }\n",
              "\n",
              "    .dataframe thead th {\n",
              "        text-align: right;\n",
              "    }\n",
              "</style>\n",
              "<table border=\"1\" class=\"dataframe\">\n",
              "  <thead>\n",
              "    <tr style=\"text-align: right;\">\n",
              "      <th></th>\n",
              "      <th>reviewerID</th>\n",
              "      <th>Date_x</th>\n",
              "      <th>Date_y</th>\n",
              "      <th>reviewerName</th>\n",
              "      <th>Analysis</th>\n",
              "      <th>Count_shopping</th>\n",
              "      <th>Differnce</th>\n",
              "      <th>freq_time</th>\n",
              "    </tr>\n",
              "  </thead>\n",
              "  <tbody>\n",
              "    <tr>\n",
              "      <th>18842</th>\n",
              "      <td>A35Q0RBM3YNQNF</td>\n",
              "      <td>2015-08-18</td>\n",
              "      <td>2018-09-01</td>\n",
              "      <td>M. Hill</td>\n",
              "      <td>Neutral</td>\n",
              "      <td>168</td>\n",
              "      <td>1110 days</td>\n",
              "      <td>6 days 14:34:17.142857142</td>\n",
              "    </tr>\n",
              "    <tr>\n",
              "      <th>29907</th>\n",
              "      <td>ANDVNCX6JU4XW</td>\n",
              "      <td>2016-06-13</td>\n",
              "      <td>2016-07-26</td>\n",
              "      <td>SHERRY MCCAUGHTRY</td>\n",
              "      <td>Positive</td>\n",
              "      <td>124</td>\n",
              "      <td>43 days</td>\n",
              "      <td>0 days 08:19:21.290322580</td>\n",
              "    </tr>\n",
              "    <tr>\n",
              "      <th>765</th>\n",
              "      <td>A13J2PGKNMJG1K</td>\n",
              "      <td>2014-07-05</td>\n",
              "      <td>2018-03-21</td>\n",
              "      <td>LegoGirl</td>\n",
              "      <td>Neutral</td>\n",
              "      <td>118</td>\n",
              "      <td>1355 days</td>\n",
              "      <td>11 days 11:35:35.593220338</td>\n",
              "    </tr>\n",
              "    <tr>\n",
              "      <th>29752</th>\n",
              "      <td>AMMNGUJK4HQJ5</td>\n",
              "      <td>2014-08-27</td>\n",
              "      <td>2018-07-19</td>\n",
              "      <td>Misty</td>\n",
              "      <td>Neutral</td>\n",
              "      <td>116</td>\n",
              "      <td>1422 days</td>\n",
              "      <td>12 days 06:12:24.827586206</td>\n",
              "    </tr>\n",
              "    <tr>\n",
              "      <th>10362</th>\n",
              "      <td>A26K3T6L5NYO7L</td>\n",
              "      <td>2015-02-02</td>\n",
              "      <td>2018-02-18</td>\n",
              "      <td>PennyPincher</td>\n",
              "      <td>Neutral</td>\n",
              "      <td>111</td>\n",
              "      <td>1112 days</td>\n",
              "      <td>10 days 00:25:56.756756756</td>\n",
              "    </tr>\n",
              "    <tr>\n",
              "      <th>...</th>\n",
              "      <td>...</td>\n",
              "      <td>...</td>\n",
              "      <td>...</td>\n",
              "      <td>...</td>\n",
              "      <td>...</td>\n",
              "      <td>...</td>\n",
              "      <td>...</td>\n",
              "      <td>...</td>\n",
              "    </tr>\n",
              "    <tr>\n",
              "      <th>27392</th>\n",
              "      <td>AD2NC12BXWG46</td>\n",
              "      <td>2015-12-25</td>\n",
              "      <td>2017-08-01</td>\n",
              "      <td>Jillian Fae</td>\n",
              "      <td>Positive</td>\n",
              "      <td>1</td>\n",
              "      <td>585 days</td>\n",
              "      <td>585 days 00:00:00</td>\n",
              "    </tr>\n",
              "    <tr>\n",
              "      <th>10294</th>\n",
              "      <td>A26CIDCRYQLUL6</td>\n",
              "      <td>2014-08-24</td>\n",
              "      <td>2017-03-05</td>\n",
              "      <td>Richard</td>\n",
              "      <td>Negative</td>\n",
              "      <td>1</td>\n",
              "      <td>924 days</td>\n",
              "      <td>924 days 00:00:00</td>\n",
              "    </tr>\n",
              "    <tr>\n",
              "      <th>10297</th>\n",
              "      <td>A26CIDCRYQLUL6</td>\n",
              "      <td>2014-08-24</td>\n",
              "      <td>2017-03-05</td>\n",
              "      <td>Rickie</td>\n",
              "      <td>Neutral</td>\n",
              "      <td>1</td>\n",
              "      <td>924 days</td>\n",
              "      <td>924 days 00:00:00</td>\n",
              "    </tr>\n",
              "    <tr>\n",
              "      <th>10308</th>\n",
              "      <td>A26E1C9KL8LFPL</td>\n",
              "      <td>2016-12-09</td>\n",
              "      <td>2018-04-27</td>\n",
              "      <td>pepper</td>\n",
              "      <td>Negative</td>\n",
              "      <td>1</td>\n",
              "      <td>504 days</td>\n",
              "      <td>504 days 00:00:00</td>\n",
              "    </tr>\n",
              "    <tr>\n",
              "      <th>0</th>\n",
              "      <td>A0526222H977CBZM4DK7</td>\n",
              "      <td>2016-10-16</td>\n",
              "      <td>2017-04-26</td>\n",
              "      <td>JAIME SCARPITTA</td>\n",
              "      <td>Negative</td>\n",
              "      <td>1</td>\n",
              "      <td>192 days</td>\n",
              "      <td>192 days 00:00:00</td>\n",
              "    </tr>\n",
              "  </tbody>\n",
              "</table>\n",
              "<p>24872 rows × 8 columns</p>\n",
              "</div>\n",
              "      <button class=\"colab-df-convert\" onclick=\"convertToInteractive('df-17e86c5c-d42e-4ae0-be4c-79af169bbf6e')\"\n",
              "              title=\"Convert this dataframe to an interactive table.\"\n",
              "              style=\"display:none;\">\n",
              "        \n",
              "  <svg xmlns=\"http://www.w3.org/2000/svg\" height=\"24px\"viewBox=\"0 0 24 24\"\n",
              "       width=\"24px\">\n",
              "    <path d=\"M0 0h24v24H0V0z\" fill=\"none\"/>\n",
              "    <path d=\"M18.56 5.44l.94 2.06.94-2.06 2.06-.94-2.06-.94-.94-2.06-.94 2.06-2.06.94zm-11 1L8.5 8.5l.94-2.06 2.06-.94-2.06-.94L8.5 2.5l-.94 2.06-2.06.94zm10 10l.94 2.06.94-2.06 2.06-.94-2.06-.94-.94-2.06-.94 2.06-2.06.94z\"/><path d=\"M17.41 7.96l-1.37-1.37c-.4-.4-.92-.59-1.43-.59-.52 0-1.04.2-1.43.59L10.3 9.45l-7.72 7.72c-.78.78-.78 2.05 0 2.83L4 21.41c.39.39.9.59 1.41.59.51 0 1.02-.2 1.41-.59l7.78-7.78 2.81-2.81c.8-.78.8-2.07 0-2.86zM5.41 20L4 18.59l7.72-7.72 1.47 1.35L5.41 20z\"/>\n",
              "  </svg>\n",
              "      </button>\n",
              "      \n",
              "  <style>\n",
              "    .colab-df-container {\n",
              "      display:flex;\n",
              "      flex-wrap:wrap;\n",
              "      gap: 12px;\n",
              "    }\n",
              "\n",
              "    .colab-df-convert {\n",
              "      background-color: #E8F0FE;\n",
              "      border: none;\n",
              "      border-radius: 50%;\n",
              "      cursor: pointer;\n",
              "      display: none;\n",
              "      fill: #1967D2;\n",
              "      height: 32px;\n",
              "      padding: 0 0 0 0;\n",
              "      width: 32px;\n",
              "    }\n",
              "\n",
              "    .colab-df-convert:hover {\n",
              "      background-color: #E2EBFA;\n",
              "      box-shadow: 0px 1px 2px rgba(60, 64, 67, 0.3), 0px 1px 3px 1px rgba(60, 64, 67, 0.15);\n",
              "      fill: #174EA6;\n",
              "    }\n",
              "\n",
              "    [theme=dark] .colab-df-convert {\n",
              "      background-color: #3B4455;\n",
              "      fill: #D2E3FC;\n",
              "    }\n",
              "\n",
              "    [theme=dark] .colab-df-convert:hover {\n",
              "      background-color: #434B5C;\n",
              "      box-shadow: 0px 1px 3px 1px rgba(0, 0, 0, 0.15);\n",
              "      filter: drop-shadow(0px 1px 2px rgba(0, 0, 0, 0.3));\n",
              "      fill: #FFFFFF;\n",
              "    }\n",
              "  </style>\n",
              "\n",
              "      <script>\n",
              "        const buttonEl =\n",
              "          document.querySelector('#df-17e86c5c-d42e-4ae0-be4c-79af169bbf6e button.colab-df-convert');\n",
              "        buttonEl.style.display =\n",
              "          google.colab.kernel.accessAllowed ? 'block' : 'none';\n",
              "\n",
              "        async function convertToInteractive(key) {\n",
              "          const element = document.querySelector('#df-17e86c5c-d42e-4ae0-be4c-79af169bbf6e');\n",
              "          const dataTable =\n",
              "            await google.colab.kernel.invokeFunction('convertToInteractive',\n",
              "                                                     [key], {});\n",
              "          if (!dataTable) return;\n",
              "\n",
              "          const docLinkHtml = 'Like what you see? Visit the ' +\n",
              "            '<a target=\"_blank\" href=https://colab.research.google.com/notebooks/data_table.ipynb>data table notebook</a>'\n",
              "            + ' to learn more about interactive tables.';\n",
              "          element.innerHTML = '';\n",
              "          dataTable['output_type'] = 'display_data';\n",
              "          await google.colab.output.renderOutput(dataTable, element);\n",
              "          const docLink = document.createElement('div');\n",
              "          docLink.innerHTML = docLinkHtml;\n",
              "          element.appendChild(docLink);\n",
              "        }\n",
              "      </script>\n",
              "    </div>\n",
              "  </div>\n",
              "  "
            ]
          },
          "metadata": {},
          "execution_count": 229
        }
      ]
    },
    {
      "cell_type": "code",
      "source": [
        "#Distribution of purchase frequency\n",
        "fig=plt.figure(figsize=(12,8))\n",
        "plt.hist(shop_tworm['freq_time'].apply(lambda x:x.days))\n",
        "plt.ylabel('Count of Customers',fontsize=12)\n",
        "plt.xlabel('Shopping Frequency in Days',fontsize=12)\n",
        "plt.title('Distributuion of Shopping Frequency Prime Pantry',fontsize=14)\n",
        "plt.show()"
      ],
      "metadata": {
        "colab": {
          "base_uri": "https://localhost:8080/",
          "height": 519
        },
        "id": "eHZRViLrVStS",
        "outputId": "eb6d6d3b-6945-4eb2-a998-6c9f9001e7a4"
      },
      "execution_count": 230,
      "outputs": [
        {
          "output_type": "display_data",
          "data": {
            "text/plain": [
              "<Figure size 864x576 with 1 Axes>"
            ],
            "image/png": "[encoded data removed]"
          },
          "metadata": {}
        }
      ]
    },
    {
      "cell_type": "markdown",
      "source": [
        "### Loyal Customers"
      ],
      "metadata": {
        "id": "jm5kH75zVkE6"
      }
    },
    {
      "cell_type": "code",
      "source": [
        "#Top 20 customer who shop more frequently \n",
        "shop_tworm.iloc[:,[0,3,4,-3,-1]].sort_values(by='Count_shopping',ascending=False).head(20)"
      ],
      "metadata": {
        "colab": {
          "base_uri": "https://localhost:8080/",
          "height": 676
        },
        "id": "-lwDUOLUVS9I",
        "outputId": "3bb984a7-f93a-4d04-a425-75cba341758f"
      },
      "execution_count": 231,
      "outputs": [
        {
          "output_type": "execute_result",
          "data": {
            "text/plain": [
              "           reviewerID        reviewerName  Analysis  Count_shopping  \\\n",
              "18842  A35Q0RBM3YNQNF             M. Hill   Neutral             168   \n",
              "29907   ANDVNCX6JU4XW   SHERRY MCCAUGHTRY  Positive             124   \n",
              "765    A13J2PGKNMJG1K            LegoGirl   Neutral             118   \n",
              "29752   AMMNGUJK4HQJ5               Misty   Neutral             116   \n",
              "10362  A26K3T6L5NYO7L        PennyPincher   Neutral             111   \n",
              "10066  A25DP3DWUXSS48                  KT   Neutral              93   \n",
              "17185  A2YKWYC3WQJX5J   ShannonOnTheLakes   Neutral              79   \n",
              "29271   AKPG8VQBS0MWR  Old Coast Customer   Neutral              78   \n",
              "20943  A3EF7PUYTF057Z      Gary R. Jordan  Positive              73   \n",
              "4764   A1JN63QBBNGB78              Elle S   Neutral              72   \n",
              "2756   A1BT9J2I6DC246              Debbie  Positive              72   \n",
              "26368   A92ZKEZI137M1      Lisa M. Rainer  Negative              67   \n",
              "21115  A3F9UAX22LLZWK        K K Schwartz  Positive              67   \n",
              "14668  A2O421DTA8J0RW  Dogs &amp; Horses    Neutral              65   \n",
              "10501  A276RHM6BBPDTY                Ddee  Positive              64   \n",
              "2430   A1AB6D301MOTM0             Lynn G.   Neutral              63   \n",
              "32317   AXK37UZY8UPYP       Que Sera Sera  Positive              62   \n",
              "7833   A1W511P7B2QSQE             MariamG   Neutral              62   \n",
              "15417  A2R1HUYHXV7H18                Bugs   Neutral              61   \n",
              "12987  A2H9H3BVFNS3Y0              Leah D  Positive              61   \n",
              "\n",
              "                       freq_time  \n",
              "18842  6 days 14:34:17.142857142  \n",
              "29907  0 days 08:19:21.290322580  \n",
              "765   11 days 11:35:35.593220338  \n",
              "29752 12 days 06:12:24.827586206  \n",
              "10362 10 days 00:25:56.756756756  \n",
              "10066 11 days 22:27:05.806451612  \n",
              "17185 44 days 09:43:17.468354430  \n",
              "29271 10 days 15:23:04.615384615  \n",
              "20943 20 days 18:04:55.890410958  \n",
              "4764            17 days 02:20:00  \n",
              "2756            14 days 19:40:00  \n",
              "26368  4 days 05:22:23.283582089  \n",
              "21115 16 days 02:51:56.417910447  \n",
              "14668 19 days 05:32:18.461538461  \n",
              "10501           20 days 06:45:00  \n",
              "2430   7 days 10:17:08.571428571  \n",
              "32317 13 days 00:23:13.548387096  \n",
              "7833  10 days 08:07:44.516129032  \n",
              "15417 41 days 21:14:45.245901639  \n",
              "12987 10 days 22:01:58.032786885  "
            ],
            "text/html": [
              "\n",
              "  <div id=\"df-80ef7ac8-b35a-43a3-8417-566e4b222848\">\n",
              "    <div class=\"colab-df-container\">\n",
              "      <div>\n",
              "<style scoped>\n",
              "    .dataframe tbody tr th:only-of-type {\n",
              "        vertical-align: middle;\n",
              "    }\n",
              "\n",
              "    .dataframe tbody tr th {\n",
              "        vertical-align: top;\n",
              "    }\n",
              "\n",
              "    .dataframe thead th {\n",
              "        text-align: right;\n",
              "    }\n",
              "</style>\n",
              "<table border=\"1\" class=\"dataframe\">\n",
              "  <thead>\n",
              "    <tr style=\"text-align: right;\">\n",
              "      <th></th>\n",
              "      <th>reviewerID</th>\n",
              "      <th>reviewerName</th>\n",
              "      <th>Analysis</th>\n",
              "      <th>Count_shopping</th>\n",
              "      <th>freq_time</th>\n",
              "    </tr>\n",
              "  </thead>\n",
              "  <tbody>\n",
              "    <tr>\n",
              "      <th>18842</th>\n",
              "      <td>A35Q0RBM3YNQNF</td>\n",
              "      <td>M. Hill</td>\n",
              "      <td>Neutral</td>\n",
              "      <td>168</td>\n",
              "      <td>6 days 14:34:17.142857142</td>\n",
              "    </tr>\n",
              "    <tr>\n",
              "      <th>29907</th>\n",
              "      <td>ANDVNCX6JU4XW</td>\n",
              "      <td>SHERRY MCCAUGHTRY</td>\n",
              "      <td>Positive</td>\n",
              "      <td>124</td>\n",
              "      <td>0 days 08:19:21.290322580</td>\n",
              "    </tr>\n",
              "    <tr>\n",
              "      <th>765</th>\n",
              "      <td>A13J2PGKNMJG1K</td>\n",
              "      <td>LegoGirl</td>\n",
              "      <td>Neutral</td>\n",
              "      <td>118</td>\n",
              "      <td>11 days 11:35:35.593220338</td>\n",
              "    </tr>\n",
              "    <tr>\n",
              "      <th>29752</th>\n",
              "      <td>AMMNGUJK4HQJ5</td>\n",
              "      <td>Misty</td>\n",
              "      <td>Neutral</td>\n",
              "      <td>116</td>\n",
              "      <td>12 days 06:12:24.827586206</td>\n",
              "    </tr>\n",
              "    <tr>\n",
              "      <th>10362</th>\n",
              "      <td>A26K3T6L5NYO7L</td>\n",
              "      <td>PennyPincher</td>\n",
              "      <td>Neutral</td>\n",
              "      <td>111</td>\n",
              "      <td>10 days 00:25:56.756756756</td>\n",
              "    </tr>\n",
              "    <tr>\n",
              "      <th>10066</th>\n",
              "      <td>A25DP3DWUXSS48</td>\n",
              "      <td>KT</td>\n",
              "      <td>Neutral</td>\n",
              "      <td>93</td>\n",
              "      <td>11 days 22:27:05.806451612</td>\n",
              "    </tr>\n",
              "    <tr>\n",
              "      <th>17185</th>\n",
              "      <td>A2YKWYC3WQJX5J</td>\n",
              "      <td>ShannonOnTheLakes</td>\n",
              "      <td>Neutral</td>\n",
              "      <td>79</td>\n",
              "      <td>44 days 09:43:17.468354430</td>\n",
              "    </tr>\n",
              "    <tr>\n",
              "      <th>29271</th>\n",
              "      <td>AKPG8VQBS0MWR</td>\n",
              "      <td>Old Coast Customer</td>\n",
              "      <td>Neutral</td>\n",
              "      <td>78</td>\n",
              "      <td>10 days 15:23:04.615384615</td>\n",
              "    </tr>\n",
              "    <tr>\n",
              "      <th>20943</th>\n",
              "      <td>A3EF7PUYTF057Z</td>\n",
              "      <td>Gary R. Jordan</td>\n",
              "      <td>Positive</td>\n",
              "      <td>73</td>\n",
              "      <td>20 days 18:04:55.890410958</td>\n",
              "    </tr>\n",
              "    <tr>\n",
              "      <th>4764</th>\n",
              "      <td>A1JN63QBBNGB78</td>\n",
              "      <td>Elle S</td>\n",
              "      <td>Neutral</td>\n",
              "      <td>72</td>\n",
              "      <td>17 days 02:20:00</td>\n",
              "    </tr>\n",
              "    <tr>\n",
              "      <th>2756</th>\n",
              "      <td>A1BT9J2I6DC246</td>\n",
              "      <td>Debbie</td>\n",
              "      <td>Positive</td>\n",
              "      <td>72</td>\n",
              "      <td>14 days 19:40:00</td>\n",
              "    </tr>\n",
              "    <tr>\n",
              "      <th>26368</th>\n",
              "      <td>A92ZKEZI137M1</td>\n",
              "      <td>Lisa M. Rainer</td>\n",
              "      <td>Negative</td>\n",
              "      <td>67</td>\n",
              "      <td>4 days 05:22:23.283582089</td>\n",
              "    </tr>\n",
              "    <tr>\n",
              "      <th>21115</th>\n",
              "      <td>A3F9UAX22LLZWK</td>\n",
              "      <td>K K Schwartz</td>\n",
              "      <td>Positive</td>\n",
              "      <td>67</td>\n",
              "      <td>16 days 02:51:56.417910447</td>\n",
              "    </tr>\n",
              "    <tr>\n",
              "      <th>14668</th>\n",
              "      <td>A2O421DTA8J0RW</td>\n",
              "      <td>Dogs &amp;amp; Horses</td>\n",
              "      <td>Neutral</td>\n",
              "      <td>65</td>\n",
              "      <td>19 days 05:32:18.461538461</td>\n",
              "    </tr>\n",
              "    <tr>\n",
              "      <th>10501</th>\n",
              "      <td>A276RHM6BBPDTY</td>\n",
              "      <td>Ddee</td>\n",
              "      <td>Positive</td>\n",
              "      <td>64</td>\n",
              "      <td>20 days 06:45:00</td>\n",
              "    </tr>\n",
              "    <tr>\n",
              "      <th>2430</th>\n",
              "      <td>A1AB6D301MOTM0</td>\n",
              "      <td>Lynn G.</td>\n",
              "      <td>Neutral</td>\n",
              "      <td>63</td>\n",
              "      <td>7 days 10:17:08.571428571</td>\n",
              "    </tr>\n",
              "    <tr>\n",
              "      <th>32317</th>\n",
              "      <td>AXK37UZY8UPYP</td>\n",
              "      <td>Que Sera Sera</td>\n",
              "      <td>Positive</td>\n",
              "      <td>62</td>\n",
              "      <td>13 days 00:23:13.548387096</td>\n",
              "    </tr>\n",
              "    <tr>\n",
              "      <th>7833</th>\n",
              "      <td>A1W511P7B2QSQE</td>\n",
              "      <td>MariamG</td>\n",
              "      <td>Neutral</td>\n",
              "      <td>62</td>\n",
              "      <td>10 days 08:07:44.516129032</td>\n",
              "    </tr>\n",
              "    <tr>\n",
              "      <th>15417</th>\n",
              "      <td>A2R1HUYHXV7H18</td>\n",
              "      <td>Bugs</td>\n",
              "      <td>Neutral</td>\n",
              "      <td>61</td>\n",
              "      <td>41 days 21:14:45.245901639</td>\n",
              "    </tr>\n",
              "    <tr>\n",
              "      <th>12987</th>\n",
              "      <td>A2H9H3BVFNS3Y0</td>\n",
              "      <td>Leah D</td>\n",
              "      <td>Positive</td>\n",
              "      <td>61</td>\n",
              "      <td>10 days 22:01:58.032786885</td>\n",
              "    </tr>\n",
              "  </tbody>\n",
              "</table>\n",
              "</div>\n",
              "      <button class=\"colab-df-convert\" onclick=\"convertToInteractive('df-80ef7ac8-b35a-43a3-8417-566e4b222848')\"\n",
              "              title=\"Convert this dataframe to an interactive table.\"\n",
              "              style=\"display:none;\">\n",
              "        \n",
              "  <svg xmlns=\"http://www.w3.org/2000/svg\" height=\"24px\"viewBox=\"0 0 24 24\"\n",
              "       width=\"24px\">\n",
              "    <path d=\"M0 0h24v24H0V0z\" fill=\"none\"/>\n",
              "    <path d=\"M18.56 5.44l.94 2.06.94-2.06 2.06-.94-2.06-.94-.94-2.06-.94 2.06-2.06.94zm-11 1L8.5 8.5l.94-2.06 2.06-.94-2.06-.94L8.5 2.5l-.94 2.06-2.06.94zm10 10l.94 2.06.94-2.06 2.06-.94-2.06-.94-.94-2.06-.94 2.06-2.06.94z\"/><path d=\"M17.41 7.96l-1.37-1.37c-.4-.4-.92-.59-1.43-.59-.52 0-1.04.2-1.43.59L10.3 9.45l-7.72 7.72c-.78.78-.78 2.05 0 2.83L4 21.41c.39.39.9.59 1.41.59.51 0 1.02-.2 1.41-.59l7.78-7.78 2.81-2.81c.8-.78.8-2.07 0-2.86zM5.41 20L4 18.59l7.72-7.72 1.47 1.35L5.41 20z\"/>\n",
              "  </svg>\n",
              "      </button>\n",
              "      \n",
              "  <style>\n",
              "    .colab-df-container {\n",
              "      display:flex;\n",
              "      flex-wrap:wrap;\n",
              "      gap: 12px;\n",
              "    }\n",
              "\n",
              "    .colab-df-convert {\n",
              "      background-color: #E8F0FE;\n",
              "      border: none;\n",
              "      border-radius: 50%;\n",
              "      cursor: pointer;\n",
              "      display: none;\n",
              "      fill: #1967D2;\n",
              "      height: 32px;\n",
              "      padding: 0 0 0 0;\n",
              "      width: 32px;\n",
              "    }\n",
              "\n",
              "    .colab-df-convert:hover {\n",
              "      background-color: #E2EBFA;\n",
              "      box-shadow: 0px 1px 2px rgba(60, 64, 67, 0.3), 0px 1px 3px 1px rgba(60, 64, 67, 0.15);\n",
              "      fill: #174EA6;\n",
              "    }\n",
              "\n",
              "    [theme=dark] .colab-df-convert {\n",
              "      background-color: #3B4455;\n",
              "      fill: #D2E3FC;\n",
              "    }\n",
              "\n",
              "    [theme=dark] .colab-df-convert:hover {\n",
              "      background-color: #434B5C;\n",
              "      box-shadow: 0px 1px 3px 1px rgba(0, 0, 0, 0.15);\n",
              "      filter: drop-shadow(0px 1px 2px rgba(0, 0, 0, 0.3));\n",
              "      fill: #FFFFFF;\n",
              "    }\n",
              "  </style>\n",
              "\n",
              "      <script>\n",
              "        const buttonEl =\n",
              "          document.querySelector('#df-80ef7ac8-b35a-43a3-8417-566e4b222848 button.colab-df-convert');\n",
              "        buttonEl.style.display =\n",
              "          google.colab.kernel.accessAllowed ? 'block' : 'none';\n",
              "\n",
              "        async function convertToInteractive(key) {\n",
              "          const element = document.querySelector('#df-80ef7ac8-b35a-43a3-8417-566e4b222848');\n",
              "          const dataTable =\n",
              "            await google.colab.kernel.invokeFunction('convertToInteractive',\n",
              "                                                     [key], {});\n",
              "          if (!dataTable) return;\n",
              "\n",
              "          const docLinkHtml = 'Like what you see? Visit the ' +\n",
              "            '<a target=\"_blank\" href=https://colab.research.google.com/notebooks/data_table.ipynb>data table notebook</a>'\n",
              "            + ' to learn more about interactive tables.';\n",
              "          element.innerHTML = '';\n",
              "          dataTable['output_type'] = 'display_data';\n",
              "          await google.colab.output.renderOutput(dataTable, element);\n",
              "          const docLink = document.createElement('div');\n",
              "          docLink.innerHTML = docLinkHtml;\n",
              "          element.appendChild(docLink);\n",
              "        }\n",
              "      </script>\n",
              "    </div>\n",
              "  </div>\n",
              "  "
            ]
          },
          "metadata": {},
          "execution_count": 231
        }
      ]
    },
    {
      "cell_type": "markdown",
      "source": [
        "### Customers likely to churn out"
      ],
      "metadata": {
        "id": "fI6x3GZLVoiH"
      }
    },
    {
      "cell_type": "code",
      "source": [
        "#bottom 10 cutomers who shops very less.\n",
        "shop_tworm.iloc[:,[0,3,4,-3,-1]].sort_values(by='Count_shopping',ascending=True).head(10)"
      ],
      "metadata": {
        "colab": {
          "base_uri": "https://localhost:8080/",
          "height": 363
        },
        "id": "vRmenkYYVZf0",
        "outputId": "ee63ffeb-48e9-4947-bdba-bab217929610"
      },
      "execution_count": 232,
      "outputs": [
        {
          "output_type": "execute_result",
          "data": {
            "text/plain": [
              "                 reviewerID     reviewerName  Analysis  Count_shopping  \\\n",
              "0      A0526222H977CBZM4DK7  JAIME SCARPITTA  Negative               1   \n",
              "19987        A3AE8HSBCSLYX4              sly  Negative               1   \n",
              "6968         A1SU2TR45U1VB4  Chelsie Luchini   Neutral               1   \n",
              "19988        A3AE8HSBCSLYX4              sly   Neutral               1   \n",
              "6962         A1STPMGQSC12NS           valeri  Positive               1   \n",
              "19991        A3AEAMF75QS4WB  Amazon Customer   Neutral               1   \n",
              "19993        A3AECY1VS8T6V5          Y. Pope  Negative               1   \n",
              "20002        A3AG3ZHG78N4M5              Pat  Negative               1   \n",
              "20006        A3AGK4J9PHB6XE       Sbuxgirl36   Neutral               1   \n",
              "6952         A1SSOLFAUR915J          Crystal   Neutral               1   \n",
              "\n",
              "      freq_time  \n",
              "0      192 days  \n",
              "19987   35 days  \n",
              "6968    74 days  \n",
              "19988   35 days  \n",
              "6962   226 days  \n",
              "19991  199 days  \n",
              "19993  814 days  \n",
              "20002  683 days  \n",
              "20006  316 days  \n",
              "6952   474 days  "
            ],
            "text/html": [
              "\n",
              "  <div id=\"df-adc18d61-02c8-43e0-9914-d61661c105ff\">\n",
              "    <div class=\"colab-df-container\">\n",
              "      <div>\n",
              "<style scoped>\n",
              "    .dataframe tbody tr th:only-of-type {\n",
              "        vertical-align: middle;\n",
              "    }\n",
              "\n",
              "    .dataframe tbody tr th {\n",
              "        vertical-align: top;\n",
              "    }\n",
              "\n",
              "    .dataframe thead th {\n",
              "        text-align: right;\n",
              "    }\n",
              "</style>\n",
              "<table border=\"1\" class=\"dataframe\">\n",
              "  <thead>\n",
              "    <tr style=\"text-align: right;\">\n",
              "      <th></th>\n",
              "      <th>reviewerID</th>\n",
              "      <th>reviewerName</th>\n",
              "      <th>Analysis</th>\n",
              "      <th>Count_shopping</th>\n",
              "      <th>freq_time</th>\n",
              "    </tr>\n",
              "  </thead>\n",
              "  <tbody>\n",
              "    <tr>\n",
              "      <th>0</th>\n",
              "      <td>A0526222H977CBZM4DK7</td>\n",
              "      <td>JAIME SCARPITTA</td>\n",
              "      <td>Negative</td>\n",
              "      <td>1</td>\n",
              "      <td>192 days</td>\n",
              "    </tr>\n",
              "    <tr>\n",
              "      <th>19987</th>\n",
              "      <td>A3AE8HSBCSLYX4</td>\n",
              "      <td>sly</td>\n",
              "      <td>Negative</td>\n",
              "      <td>1</td>\n",
              "      <td>35 days</td>\n",
              "    </tr>\n",
              "    <tr>\n",
              "      <th>6968</th>\n",
              "      <td>A1SU2TR45U1VB4</td>\n",
              "      <td>Chelsie Luchini</td>\n",
              "      <td>Neutral</td>\n",
              "      <td>1</td>\n",
              "      <td>74 days</td>\n",
              "    </tr>\n",
              "    <tr>\n",
              "      <th>19988</th>\n",
              "      <td>A3AE8HSBCSLYX4</td>\n",
              "      <td>sly</td>\n",
              "      <td>Neutral</td>\n",
              "      <td>1</td>\n",
              "      <td>35 days</td>\n",
              "    </tr>\n",
              "    <tr>\n",
              "      <th>6962</th>\n",
              "      <td>A1STPMGQSC12NS</td>\n",
              "      <td>valeri</td>\n",
              "      <td>Positive</td>\n",
              "      <td>1</td>\n",
              "      <td>226 days</td>\n",
              "    </tr>\n",
              "    <tr>\n",
              "      <th>19991</th>\n",
              "      <td>A3AEAMF75QS4WB</td>\n",
              "      <td>Amazon Customer</td>\n",
              "      <td>Neutral</td>\n",
              "      <td>1</td>\n",
              "      <td>199 days</td>\n",
              "    </tr>\n",
              "    <tr>\n",
              "      <th>19993</th>\n",
              "      <td>A3AECY1VS8T6V5</td>\n",
              "      <td>Y. Pope</td>\n",
              "      <td>Negative</td>\n",
              "      <td>1</td>\n",
              "      <td>814 days</td>\n",
              "    </tr>\n",
              "    <tr>\n",
              "      <th>20002</th>\n",
              "      <td>A3AG3ZHG78N4M5</td>\n",
              "      <td>Pat</td>\n",
              "      <td>Negative</td>\n",
              "      <td>1</td>\n",
              "      <td>683 days</td>\n",
              "    </tr>\n",
              "    <tr>\n",
              "      <th>20006</th>\n",
              "      <td>A3AGK4J9PHB6XE</td>\n",
              "      <td>Sbuxgirl36</td>\n",
              "      <td>Neutral</td>\n",
              "      <td>1</td>\n",
              "      <td>316 days</td>\n",
              "    </tr>\n",
              "    <tr>\n",
              "      <th>6952</th>\n",
              "      <td>A1SSOLFAUR915J</td>\n",
              "      <td>Crystal</td>\n",
              "      <td>Neutral</td>\n",
              "      <td>1</td>\n",
              "      <td>474 days</td>\n",
              "    </tr>\n",
              "  </tbody>\n",
              "</table>\n",
              "</div>\n",
              "      <button class=\"colab-df-convert\" onclick=\"convertToInteractive('df-adc18d61-02c8-43e0-9914-d61661c105ff')\"\n",
              "              title=\"Convert this dataframe to an interactive table.\"\n",
              "              style=\"display:none;\">\n",
              "        \n",
              "  <svg xmlns=\"http://www.w3.org/2000/svg\" height=\"24px\"viewBox=\"0 0 24 24\"\n",
              "       width=\"24px\">\n",
              "    <path d=\"M0 0h24v24H0V0z\" fill=\"none\"/>\n",
              "    <path d=\"M18.56 5.44l.94 2.06.94-2.06 2.06-.94-2.06-.94-.94-2.06-.94 2.06-2.06.94zm-11 1L8.5 8.5l.94-2.06 2.06-.94-2.06-.94L8.5 2.5l-.94 2.06-2.06.94zm10 10l.94 2.06.94-2.06 2.06-.94-2.06-.94-.94-2.06-.94 2.06-2.06.94z\"/><path d=\"M17.41 7.96l-1.37-1.37c-.4-.4-.92-.59-1.43-.59-.52 0-1.04.2-1.43.59L10.3 9.45l-7.72 7.72c-.78.78-.78 2.05 0 2.83L4 21.41c.39.39.9.59 1.41.59.51 0 1.02-.2 1.41-.59l7.78-7.78 2.81-2.81c.8-.78.8-2.07 0-2.86zM5.41 20L4 18.59l7.72-7.72 1.47 1.35L5.41 20z\"/>\n",
              "  </svg>\n",
              "      </button>\n",
              "      \n",
              "  <style>\n",
              "    .colab-df-container {\n",
              "      display:flex;\n",
              "      flex-wrap:wrap;\n",
              "      gap: 12px;\n",
              "    }\n",
              "\n",
              "    .colab-df-convert {\n",
              "      background-color: #E8F0FE;\n",
              "      border: none;\n",
              "      border-radius: 50%;\n",
              "      cursor: pointer;\n",
              "      display: none;\n",
              "      fill: #1967D2;\n",
              "      height: 32px;\n",
              "      padding: 0 0 0 0;\n",
              "      width: 32px;\n",
              "    }\n",
              "\n",
              "    .colab-df-convert:hover {\n",
              "      background-color: #E2EBFA;\n",
              "      box-shadow: 0px 1px 2px rgba(60, 64, 67, 0.3), 0px 1px 3px 1px rgba(60, 64, 67, 0.15);\n",
              "      fill: #174EA6;\n",
              "    }\n",
              "\n",
              "    [theme=dark] .colab-df-convert {\n",
              "      background-color: #3B4455;\n",
              "      fill: #D2E3FC;\n",
              "    }\n",
              "\n",
              "    [theme=dark] .colab-df-convert:hover {\n",
              "      background-color: #434B5C;\n",
              "      box-shadow: 0px 1px 3px 1px rgba(0, 0, 0, 0.15);\n",
              "      filter: drop-shadow(0px 1px 2px rgba(0, 0, 0, 0.3));\n",
              "      fill: #FFFFFF;\n",
              "    }\n",
              "  </style>\n",
              "\n",
              "      <script>\n",
              "        const buttonEl =\n",
              "          document.querySelector('#df-adc18d61-02c8-43e0-9914-d61661c105ff button.colab-df-convert');\n",
              "        buttonEl.style.display =\n",
              "          google.colab.kernel.accessAllowed ? 'block' : 'none';\n",
              "\n",
              "        async function convertToInteractive(key) {\n",
              "          const element = document.querySelector('#df-adc18d61-02c8-43e0-9914-d61661c105ff');\n",
              "          const dataTable =\n",
              "            await google.colab.kernel.invokeFunction('convertToInteractive',\n",
              "                                                     [key], {});\n",
              "          if (!dataTable) return;\n",
              "\n",
              "          const docLinkHtml = 'Like what you see? Visit the ' +\n",
              "            '<a target=\"_blank\" href=https://colab.research.google.com/notebooks/data_table.ipynb>data table notebook</a>'\n",
              "            + ' to learn more about interactive tables.';\n",
              "          element.innerHTML = '';\n",
              "          dataTable['output_type'] = 'display_data';\n",
              "          await google.colab.output.renderOutput(dataTable, element);\n",
              "          const docLink = document.createElement('div');\n",
              "          docLink.innerHTML = docLinkHtml;\n",
              "          element.appendChild(docLink);\n",
              "        }\n",
              "      </script>\n",
              "    </div>\n",
              "  </div>\n",
              "  "
            ]
          },
          "metadata": {},
          "execution_count": 232
        }
      ]
    },
    {
      "cell_type": "code",
      "source": [],
      "metadata": {
        "id": "KOyNXLsYVd95"
      },
      "execution_count": null,
      "outputs": []
    }
  ]
}